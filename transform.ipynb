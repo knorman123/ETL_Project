{
 "metadata": {
  "language_info": {
   "codemirror_mode": {
    "name": "ipython",
    "version": 3
   },
   "file_extension": ".py",
   "mimetype": "text/x-python",
   "name": "python",
   "nbconvert_exporter": "python",
   "pygments_lexer": "ipython3",
   "version": "3.7.9"
  },
  "orig_nbformat": 2,
  "kernelspec": {
   "name": "python3",
   "display_name": "Python 3.7.9 64-bit ('PythonData': conda)",
   "metadata": {
    "interpreter": {
     "hash": "09b9fd081e3d0d3e582ec8770b3e1541d577f0aa57c748b8ddd47553873ffc88"
    }
   }
  }
 },
 "nbformat": 4,
 "nbformat_minor": 2,
 "cells": [
  {
   "cell_type": "code",
   "execution_count": 28,
   "metadata": {},
   "outputs": [],
   "source": [
    "import pandas as pd \n",
    "import json\n",
    "from sqlalchemy import create_engine\n",
    "from config import ps"
   ]
  },
  {
   "cell_type": "code",
   "execution_count": 34,
   "metadata": {},
   "outputs": [
    {
     "output_type": "execute_result",
     "data": {
      "text/plain": [
       "        points                                              title  \\\n",
       "0           87                  Nicosia 2013 Vulkà Bianco  (Etna)   \n",
       "1           87      Quinta dos Avidagos 2011 Avidagos Red (Douro)   \n",
       "2           87      Rainstorm 2013 Pinot Gris (Willamette Valley)   \n",
       "3           87  St. Julian 2013 Reserve Late Harvest Riesling ...   \n",
       "4           87  Sweet Cheeks 2012 Vintner's Reserve Wild Child...   \n",
       "...        ...                                                ...   \n",
       "129966      90  Dr. H. Thanisch (Erben Müller-Burggraef) 2013 ...   \n",
       "129967      90                  Citation 2004 Pinot Noir (Oregon)   \n",
       "129968      90  Domaine Gresser 2013 Kritt Gewurztraminer (Als...   \n",
       "129969      90      Domaine Marcel Deiss 2012 Pinot Gris (Alsace)   \n",
       "129970      90  Domaine Schoffit 2012 Lieu-dit Harth Cuvée Car...   \n",
       "\n",
       "                                              description         taster_name  \\\n",
       "0       Aromas include tropical fruit, broom, brimston...       Kerin O’Keefe   \n",
       "1       This is ripe and fruity, a wine that is smooth...          Roger Voss   \n",
       "2       Tart and snappy, the flavors of lime flesh and...        Paul Gregutt   \n",
       "3       Pineapple rind, lemon pith and orange blossom ...  Alexander Peartree   \n",
       "4       Much like the regular bottling from 2012, this...        Paul Gregutt   \n",
       "...                                                   ...                 ...   \n",
       "129966  Notes of honeysuckle and cantaloupe sweeten th...  Anna Lee C. Iijima   \n",
       "129967  Citation is given as much as a decade of bottl...        Paul Gregutt   \n",
       "129968  Well-drained gravel soil gives this wine its c...          Roger Voss   \n",
       "129969  A dry style of Pinot Gris, this is crisp with ...          Roger Voss   \n",
       "129970  Big, rich and off-dry, this is powered by inte...          Roger Voss   \n",
       "\n",
       "       taster_twitter_handle  price                             designation  \\\n",
       "0               @kerinokeefe    NaN                            Vulkà Bianco   \n",
       "1                 @vossroger   15.0                                Avidagos   \n",
       "2                @paulgwine    14.0                                    None   \n",
       "3                       None   13.0                    Reserve Late Harvest   \n",
       "4                @paulgwine    65.0      Vintner's Reserve Wild Child Block   \n",
       "...                      ...    ...                                     ...   \n",
       "129966                  None   28.0  Brauneberger Juffer-Sonnenuhr Spätlese   \n",
       "129967           @paulgwine    75.0                                    None   \n",
       "129968            @vossroger   30.0                                   Kritt   \n",
       "129969            @vossroger   32.0                                    None   \n",
       "129970            @vossroger   21.0           Lieu-dit Harth Cuvée Caroline   \n",
       "\n",
       "               variety             region_1           region_2  \\\n",
       "0          White Blend                 Etna               None   \n",
       "1       Portuguese Red                 None               None   \n",
       "2           Pinot Gris    Willamette Valley  Willamette Valley   \n",
       "3             Riesling  Lake Michigan Shore               None   \n",
       "4           Pinot Noir    Willamette Valley  Willamette Valley   \n",
       "...                ...                  ...                ...   \n",
       "129966        Riesling                 None               None   \n",
       "129967      Pinot Noir               Oregon       Oregon Other   \n",
       "129968  Gewürztraminer               Alsace               None   \n",
       "129969      Pinot Gris               Alsace               None   \n",
       "129970  Gewürztraminer               Alsace               None   \n",
       "\n",
       "                 province   country                                    winery  \n",
       "0       Sicily & Sardinia     Italy                                   Nicosia  \n",
       "1                   Douro  Portugal                       Quinta dos Avidagos  \n",
       "2                  Oregon        US                                 Rainstorm  \n",
       "3                Michigan        US                                St. Julian  \n",
       "4                  Oregon        US                              Sweet Cheeks  \n",
       "...                   ...       ...                                       ...  \n",
       "129966              Mosel   Germany  Dr. H. Thanisch (Erben Müller-Burggraef)  \n",
       "129967             Oregon        US                                  Citation  \n",
       "129968             Alsace    France                           Domaine Gresser  \n",
       "129969             Alsace    France                      Domaine Marcel Deiss  \n",
       "129970             Alsace    France                          Domaine Schoffit  \n",
       "\n",
       "[129971 rows x 13 columns]"
      ],
      "text/html": "<div>\n<style scoped>\n    .dataframe tbody tr th:only-of-type {\n        vertical-align: middle;\n    }\n\n    .dataframe tbody tr th {\n        vertical-align: top;\n    }\n\n    .dataframe thead th {\n        text-align: right;\n    }\n</style>\n<table border=\"1\" class=\"dataframe\">\n  <thead>\n    <tr style=\"text-align: right;\">\n      <th></th>\n      <th>points</th>\n      <th>title</th>\n      <th>description</th>\n      <th>taster_name</th>\n      <th>taster_twitter_handle</th>\n      <th>price</th>\n      <th>designation</th>\n      <th>variety</th>\n      <th>region_1</th>\n      <th>region_2</th>\n      <th>province</th>\n      <th>country</th>\n      <th>winery</th>\n    </tr>\n  </thead>\n  <tbody>\n    <tr>\n      <th>0</th>\n      <td>87</td>\n      <td>Nicosia 2013 Vulkà Bianco  (Etna)</td>\n      <td>Aromas include tropical fruit, broom, brimston...</td>\n      <td>Kerin O’Keefe</td>\n      <td>@kerinokeefe</td>\n      <td>NaN</td>\n      <td>Vulkà Bianco</td>\n      <td>White Blend</td>\n      <td>Etna</td>\n      <td>None</td>\n      <td>Sicily &amp; Sardinia</td>\n      <td>Italy</td>\n      <td>Nicosia</td>\n    </tr>\n    <tr>\n      <th>1</th>\n      <td>87</td>\n      <td>Quinta dos Avidagos 2011 Avidagos Red (Douro)</td>\n      <td>This is ripe and fruity, a wine that is smooth...</td>\n      <td>Roger Voss</td>\n      <td>@vossroger</td>\n      <td>15.0</td>\n      <td>Avidagos</td>\n      <td>Portuguese Red</td>\n      <td>None</td>\n      <td>None</td>\n      <td>Douro</td>\n      <td>Portugal</td>\n      <td>Quinta dos Avidagos</td>\n    </tr>\n    <tr>\n      <th>2</th>\n      <td>87</td>\n      <td>Rainstorm 2013 Pinot Gris (Willamette Valley)</td>\n      <td>Tart and snappy, the flavors of lime flesh and...</td>\n      <td>Paul Gregutt</td>\n      <td>@paulgwine</td>\n      <td>14.0</td>\n      <td>None</td>\n      <td>Pinot Gris</td>\n      <td>Willamette Valley</td>\n      <td>Willamette Valley</td>\n      <td>Oregon</td>\n      <td>US</td>\n      <td>Rainstorm</td>\n    </tr>\n    <tr>\n      <th>3</th>\n      <td>87</td>\n      <td>St. Julian 2013 Reserve Late Harvest Riesling ...</td>\n      <td>Pineapple rind, lemon pith and orange blossom ...</td>\n      <td>Alexander Peartree</td>\n      <td>None</td>\n      <td>13.0</td>\n      <td>Reserve Late Harvest</td>\n      <td>Riesling</td>\n      <td>Lake Michigan Shore</td>\n      <td>None</td>\n      <td>Michigan</td>\n      <td>US</td>\n      <td>St. Julian</td>\n    </tr>\n    <tr>\n      <th>4</th>\n      <td>87</td>\n      <td>Sweet Cheeks 2012 Vintner's Reserve Wild Child...</td>\n      <td>Much like the regular bottling from 2012, this...</td>\n      <td>Paul Gregutt</td>\n      <td>@paulgwine</td>\n      <td>65.0</td>\n      <td>Vintner's Reserve Wild Child Block</td>\n      <td>Pinot Noir</td>\n      <td>Willamette Valley</td>\n      <td>Willamette Valley</td>\n      <td>Oregon</td>\n      <td>US</td>\n      <td>Sweet Cheeks</td>\n    </tr>\n    <tr>\n      <th>...</th>\n      <td>...</td>\n      <td>...</td>\n      <td>...</td>\n      <td>...</td>\n      <td>...</td>\n      <td>...</td>\n      <td>...</td>\n      <td>...</td>\n      <td>...</td>\n      <td>...</td>\n      <td>...</td>\n      <td>...</td>\n      <td>...</td>\n    </tr>\n    <tr>\n      <th>129966</th>\n      <td>90</td>\n      <td>Dr. H. Thanisch (Erben Müller-Burggraef) 2013 ...</td>\n      <td>Notes of honeysuckle and cantaloupe sweeten th...</td>\n      <td>Anna Lee C. Iijima</td>\n      <td>None</td>\n      <td>28.0</td>\n      <td>Brauneberger Juffer-Sonnenuhr Spätlese</td>\n      <td>Riesling</td>\n      <td>None</td>\n      <td>None</td>\n      <td>Mosel</td>\n      <td>Germany</td>\n      <td>Dr. H. Thanisch (Erben Müller-Burggraef)</td>\n    </tr>\n    <tr>\n      <th>129967</th>\n      <td>90</td>\n      <td>Citation 2004 Pinot Noir (Oregon)</td>\n      <td>Citation is given as much as a decade of bottl...</td>\n      <td>Paul Gregutt</td>\n      <td>@paulgwine</td>\n      <td>75.0</td>\n      <td>None</td>\n      <td>Pinot Noir</td>\n      <td>Oregon</td>\n      <td>Oregon Other</td>\n      <td>Oregon</td>\n      <td>US</td>\n      <td>Citation</td>\n    </tr>\n    <tr>\n      <th>129968</th>\n      <td>90</td>\n      <td>Domaine Gresser 2013 Kritt Gewurztraminer (Als...</td>\n      <td>Well-drained gravel soil gives this wine its c...</td>\n      <td>Roger Voss</td>\n      <td>@vossroger</td>\n      <td>30.0</td>\n      <td>Kritt</td>\n      <td>Gewürztraminer</td>\n      <td>Alsace</td>\n      <td>None</td>\n      <td>Alsace</td>\n      <td>France</td>\n      <td>Domaine Gresser</td>\n    </tr>\n    <tr>\n      <th>129969</th>\n      <td>90</td>\n      <td>Domaine Marcel Deiss 2012 Pinot Gris (Alsace)</td>\n      <td>A dry style of Pinot Gris, this is crisp with ...</td>\n      <td>Roger Voss</td>\n      <td>@vossroger</td>\n      <td>32.0</td>\n      <td>None</td>\n      <td>Pinot Gris</td>\n      <td>Alsace</td>\n      <td>None</td>\n      <td>Alsace</td>\n      <td>France</td>\n      <td>Domaine Marcel Deiss</td>\n    </tr>\n    <tr>\n      <th>129970</th>\n      <td>90</td>\n      <td>Domaine Schoffit 2012 Lieu-dit Harth Cuvée Car...</td>\n      <td>Big, rich and off-dry, this is powered by inte...</td>\n      <td>Roger Voss</td>\n      <td>@vossroger</td>\n      <td>21.0</td>\n      <td>Lieu-dit Harth Cuvée Caroline</td>\n      <td>Gewürztraminer</td>\n      <td>Alsace</td>\n      <td>None</td>\n      <td>Alsace</td>\n      <td>France</td>\n      <td>Domaine Schoffit</td>\n    </tr>\n  </tbody>\n</table>\n<p>129971 rows × 13 columns</p>\n</div>"
     },
     "metadata": {},
     "execution_count": 34
    }
   ],
   "source": [
    "df_wine = pd.read_json(\"Resources\\winemag-data-130k-v2.json\")\n",
    "df_wine"
   ]
  },
  {
   "cell_type": "code",
   "execution_count": 54,
   "metadata": {},
   "outputs": [
    {
     "output_type": "execute_result",
     "data": {
      "text/plain": [
       "         country         variety  points  price  \\\n",
       "0          Italy     White Blend      87    NaN   \n",
       "1       Portugal  Portuguese Red      87   15.0   \n",
       "2             US      Pinot Gris      87   14.0   \n",
       "3             US        Riesling      87   13.0   \n",
       "4             US      Pinot Noir      87   65.0   \n",
       "...          ...             ...     ...    ...   \n",
       "129966   Germany        Riesling      90   28.0   \n",
       "129967        US      Pinot Noir      90   75.0   \n",
       "129968    France  Gewürztraminer      90   30.0   \n",
       "129969    France      Pinot Gris      90   32.0   \n",
       "129970    France  Gewürztraminer      90   21.0   \n",
       "\n",
       "                                                    title  \n",
       "0                       Nicosia 2013 Vulkà Bianco  (Etna)  \n",
       "1           Quinta dos Avidagos 2011 Avidagos Red (Douro)  \n",
       "2           Rainstorm 2013 Pinot Gris (Willamette Valley)  \n",
       "3       St. Julian 2013 Reserve Late Harvest Riesling ...  \n",
       "4       Sweet Cheeks 2012 Vintner's Reserve Wild Child...  \n",
       "...                                                   ...  \n",
       "129966  Dr. H. Thanisch (Erben Müller-Burggraef) 2013 ...  \n",
       "129967                  Citation 2004 Pinot Noir (Oregon)  \n",
       "129968  Domaine Gresser 2013 Kritt Gewurztraminer (Als...  \n",
       "129969      Domaine Marcel Deiss 2012 Pinot Gris (Alsace)  \n",
       "129970  Domaine Schoffit 2012 Lieu-dit Harth Cuvée Car...  \n",
       "\n",
       "[129971 rows x 5 columns]"
      ],
      "text/html": "<div>\n<style scoped>\n    .dataframe tbody tr th:only-of-type {\n        vertical-align: middle;\n    }\n\n    .dataframe tbody tr th {\n        vertical-align: top;\n    }\n\n    .dataframe thead th {\n        text-align: right;\n    }\n</style>\n<table border=\"1\" class=\"dataframe\">\n  <thead>\n    <tr style=\"text-align: right;\">\n      <th></th>\n      <th>country</th>\n      <th>variety</th>\n      <th>points</th>\n      <th>price</th>\n      <th>title</th>\n    </tr>\n  </thead>\n  <tbody>\n    <tr>\n      <th>0</th>\n      <td>Italy</td>\n      <td>White Blend</td>\n      <td>87</td>\n      <td>NaN</td>\n      <td>Nicosia 2013 Vulkà Bianco  (Etna)</td>\n    </tr>\n    <tr>\n      <th>1</th>\n      <td>Portugal</td>\n      <td>Portuguese Red</td>\n      <td>87</td>\n      <td>15.0</td>\n      <td>Quinta dos Avidagos 2011 Avidagos Red (Douro)</td>\n    </tr>\n    <tr>\n      <th>2</th>\n      <td>US</td>\n      <td>Pinot Gris</td>\n      <td>87</td>\n      <td>14.0</td>\n      <td>Rainstorm 2013 Pinot Gris (Willamette Valley)</td>\n    </tr>\n    <tr>\n      <th>3</th>\n      <td>US</td>\n      <td>Riesling</td>\n      <td>87</td>\n      <td>13.0</td>\n      <td>St. Julian 2013 Reserve Late Harvest Riesling ...</td>\n    </tr>\n    <tr>\n      <th>4</th>\n      <td>US</td>\n      <td>Pinot Noir</td>\n      <td>87</td>\n      <td>65.0</td>\n      <td>Sweet Cheeks 2012 Vintner's Reserve Wild Child...</td>\n    </tr>\n    <tr>\n      <th>...</th>\n      <td>...</td>\n      <td>...</td>\n      <td>...</td>\n      <td>...</td>\n      <td>...</td>\n    </tr>\n    <tr>\n      <th>129966</th>\n      <td>Germany</td>\n      <td>Riesling</td>\n      <td>90</td>\n      <td>28.0</td>\n      <td>Dr. H. Thanisch (Erben Müller-Burggraef) 2013 ...</td>\n    </tr>\n    <tr>\n      <th>129967</th>\n      <td>US</td>\n      <td>Pinot Noir</td>\n      <td>90</td>\n      <td>75.0</td>\n      <td>Citation 2004 Pinot Noir (Oregon)</td>\n    </tr>\n    <tr>\n      <th>129968</th>\n      <td>France</td>\n      <td>Gewürztraminer</td>\n      <td>90</td>\n      <td>30.0</td>\n      <td>Domaine Gresser 2013 Kritt Gewurztraminer (Als...</td>\n    </tr>\n    <tr>\n      <th>129969</th>\n      <td>France</td>\n      <td>Pinot Gris</td>\n      <td>90</td>\n      <td>32.0</td>\n      <td>Domaine Marcel Deiss 2012 Pinot Gris (Alsace)</td>\n    </tr>\n    <tr>\n      <th>129970</th>\n      <td>France</td>\n      <td>Gewürztraminer</td>\n      <td>90</td>\n      <td>21.0</td>\n      <td>Domaine Schoffit 2012 Lieu-dit Harth Cuvée Car...</td>\n    </tr>\n  </tbody>\n</table>\n<p>129971 rows × 5 columns</p>\n</div>"
     },
     "metadata": {},
     "execution_count": 54
    }
   ],
   "source": [
    "clean_wine = df_wine[[\"country\", \"variety\", \"points\", \"price\", \"title\"]]\n",
    "clean_wine"
   ]
  },
  {
   "cell_type": "code",
   "execution_count": 56,
   "metadata": {},
   "outputs": [
    {
     "output_type": "execute_result",
     "data": {
      "text/plain": [
       "         country         variety  points  price  \\\n",
       "0          Italy     White Blend      87    NaN   \n",
       "1       Portugal  Portuguese Red      87   15.0   \n",
       "2            USA      Pinot Gris      87   14.0   \n",
       "3            USA        Riesling      87   13.0   \n",
       "4            USA      Pinot Noir      87   65.0   \n",
       "...          ...             ...     ...    ...   \n",
       "129966   Germany        Riesling      90   28.0   \n",
       "129967       USA      Pinot Noir      90   75.0   \n",
       "129968    France  Gewürztraminer      90   30.0   \n",
       "129969    France      Pinot Gris      90   32.0   \n",
       "129970    France  Gewürztraminer      90   21.0   \n",
       "\n",
       "                                                    title  \n",
       "0                       Nicosia 2013 Vulkà Bianco  (Etna)  \n",
       "1           Quinta dos Avidagos 2011 Avidagos Red (Douro)  \n",
       "2           Rainstorm 2013 Pinot Gris (Willamette Valley)  \n",
       "3       St. Julian 2013 Reserve Late Harvest Riesling ...  \n",
       "4       Sweet Cheeks 2012 Vintner's Reserve Wild Child...  \n",
       "...                                                   ...  \n",
       "129966  Dr. H. Thanisch (Erben Müller-Burggraef) 2013 ...  \n",
       "129967                  Citation 2004 Pinot Noir (Oregon)  \n",
       "129968  Domaine Gresser 2013 Kritt Gewurztraminer (Als...  \n",
       "129969      Domaine Marcel Deiss 2012 Pinot Gris (Alsace)  \n",
       "129970  Domaine Schoffit 2012 Lieu-dit Harth Cuvée Car...  \n",
       "\n",
       "[129971 rows x 5 columns]"
      ],
      "text/html": "<div>\n<style scoped>\n    .dataframe tbody tr th:only-of-type {\n        vertical-align: middle;\n    }\n\n    .dataframe tbody tr th {\n        vertical-align: top;\n    }\n\n    .dataframe thead th {\n        text-align: right;\n    }\n</style>\n<table border=\"1\" class=\"dataframe\">\n  <thead>\n    <tr style=\"text-align: right;\">\n      <th></th>\n      <th>country</th>\n      <th>variety</th>\n      <th>points</th>\n      <th>price</th>\n      <th>title</th>\n    </tr>\n  </thead>\n  <tbody>\n    <tr>\n      <th>0</th>\n      <td>Italy</td>\n      <td>White Blend</td>\n      <td>87</td>\n      <td>NaN</td>\n      <td>Nicosia 2013 Vulkà Bianco  (Etna)</td>\n    </tr>\n    <tr>\n      <th>1</th>\n      <td>Portugal</td>\n      <td>Portuguese Red</td>\n      <td>87</td>\n      <td>15.0</td>\n      <td>Quinta dos Avidagos 2011 Avidagos Red (Douro)</td>\n    </tr>\n    <tr>\n      <th>2</th>\n      <td>USA</td>\n      <td>Pinot Gris</td>\n      <td>87</td>\n      <td>14.0</td>\n      <td>Rainstorm 2013 Pinot Gris (Willamette Valley)</td>\n    </tr>\n    <tr>\n      <th>3</th>\n      <td>USA</td>\n      <td>Riesling</td>\n      <td>87</td>\n      <td>13.0</td>\n      <td>St. Julian 2013 Reserve Late Harvest Riesling ...</td>\n    </tr>\n    <tr>\n      <th>4</th>\n      <td>USA</td>\n      <td>Pinot Noir</td>\n      <td>87</td>\n      <td>65.0</td>\n      <td>Sweet Cheeks 2012 Vintner's Reserve Wild Child...</td>\n    </tr>\n    <tr>\n      <th>...</th>\n      <td>...</td>\n      <td>...</td>\n      <td>...</td>\n      <td>...</td>\n      <td>...</td>\n    </tr>\n    <tr>\n      <th>129966</th>\n      <td>Germany</td>\n      <td>Riesling</td>\n      <td>90</td>\n      <td>28.0</td>\n      <td>Dr. H. Thanisch (Erben Müller-Burggraef) 2013 ...</td>\n    </tr>\n    <tr>\n      <th>129967</th>\n      <td>USA</td>\n      <td>Pinot Noir</td>\n      <td>90</td>\n      <td>75.0</td>\n      <td>Citation 2004 Pinot Noir (Oregon)</td>\n    </tr>\n    <tr>\n      <th>129968</th>\n      <td>France</td>\n      <td>Gewürztraminer</td>\n      <td>90</td>\n      <td>30.0</td>\n      <td>Domaine Gresser 2013 Kritt Gewurztraminer (Als...</td>\n    </tr>\n    <tr>\n      <th>129969</th>\n      <td>France</td>\n      <td>Pinot Gris</td>\n      <td>90</td>\n      <td>32.0</td>\n      <td>Domaine Marcel Deiss 2012 Pinot Gris (Alsace)</td>\n    </tr>\n    <tr>\n      <th>129970</th>\n      <td>France</td>\n      <td>Gewürztraminer</td>\n      <td>90</td>\n      <td>21.0</td>\n      <td>Domaine Schoffit 2012 Lieu-dit Harth Cuvée Car...</td>\n    </tr>\n  </tbody>\n</table>\n<p>129971 rows × 5 columns</p>\n</div>"
     },
     "metadata": {},
     "execution_count": 56
    }
   ],
   "source": [
    "clean_wine['country'].replace({'US':'USA'}, inplace=True)\n",
    "clean_wine"
   ]
  },
  {
   "cell_type": "code",
   "execution_count": 43,
   "metadata": {},
   "outputs": [
    {
     "output_type": "execute_result",
     "data": {
      "text/plain": [
       "         country         variety  points  price  \\\n",
       "0          Italy     White Blend      87    NaN   \n",
       "1       Portugal  Portuguese Red      87   15.0   \n",
       "2            USA      Pinot Gris      87   14.0   \n",
       "3            USA        Riesling      87   13.0   \n",
       "4            USA      Pinot Noir      87   65.0   \n",
       "...          ...             ...     ...    ...   \n",
       "129966   Germany        Riesling      90   28.0   \n",
       "129967       USA      Pinot Noir      90   75.0   \n",
       "129968    France  Gewürztraminer      90   30.0   \n",
       "129969    France      Pinot Gris      90   32.0   \n",
       "129970    France  Gewürztraminer      90   21.0   \n",
       "\n",
       "                                                    title  \n",
       "0                       Nicosia 2013 Vulkà Bianco  (Etna)  \n",
       "1           Quinta dos Avidagos 2011 Avidagos Red (Douro)  \n",
       "2           Rainstorm 2013 Pinot Gris (Willamette Valley)  \n",
       "3       St. Julian 2013 Reserve Late Harvest Riesling ...  \n",
       "4       Sweet Cheeks 2012 Vintner's Reserve Wild Child...  \n",
       "...                                                   ...  \n",
       "129966  Dr. H. Thanisch (Erben Müller-Burggraef) 2013 ...  \n",
       "129967                  Citation 2004 Pinot Noir (Oregon)  \n",
       "129968  Domaine Gresser 2013 Kritt Gewurztraminer (Als...  \n",
       "129969      Domaine Marcel Deiss 2012 Pinot Gris (Alsace)  \n",
       "129970  Domaine Schoffit 2012 Lieu-dit Harth Cuvée Car...  \n",
       "\n",
       "[119887 rows x 5 columns]"
      ],
      "text/html": "<div>\n<style scoped>\n    .dataframe tbody tr th:only-of-type {\n        vertical-align: middle;\n    }\n\n    .dataframe tbody tr th {\n        vertical-align: top;\n    }\n\n    .dataframe thead th {\n        text-align: right;\n    }\n</style>\n<table border=\"1\" class=\"dataframe\">\n  <thead>\n    <tr style=\"text-align: right;\">\n      <th></th>\n      <th>country</th>\n      <th>variety</th>\n      <th>points</th>\n      <th>price</th>\n      <th>title</th>\n    </tr>\n  </thead>\n  <tbody>\n    <tr>\n      <th>0</th>\n      <td>Italy</td>\n      <td>White Blend</td>\n      <td>87</td>\n      <td>NaN</td>\n      <td>Nicosia 2013 Vulkà Bianco  (Etna)</td>\n    </tr>\n    <tr>\n      <th>1</th>\n      <td>Portugal</td>\n      <td>Portuguese Red</td>\n      <td>87</td>\n      <td>15.0</td>\n      <td>Quinta dos Avidagos 2011 Avidagos Red (Douro)</td>\n    </tr>\n    <tr>\n      <th>2</th>\n      <td>USA</td>\n      <td>Pinot Gris</td>\n      <td>87</td>\n      <td>14.0</td>\n      <td>Rainstorm 2013 Pinot Gris (Willamette Valley)</td>\n    </tr>\n    <tr>\n      <th>3</th>\n      <td>USA</td>\n      <td>Riesling</td>\n      <td>87</td>\n      <td>13.0</td>\n      <td>St. Julian 2013 Reserve Late Harvest Riesling ...</td>\n    </tr>\n    <tr>\n      <th>4</th>\n      <td>USA</td>\n      <td>Pinot Noir</td>\n      <td>87</td>\n      <td>65.0</td>\n      <td>Sweet Cheeks 2012 Vintner's Reserve Wild Child...</td>\n    </tr>\n    <tr>\n      <th>...</th>\n      <td>...</td>\n      <td>...</td>\n      <td>...</td>\n      <td>...</td>\n      <td>...</td>\n    </tr>\n    <tr>\n      <th>129966</th>\n      <td>Germany</td>\n      <td>Riesling</td>\n      <td>90</td>\n      <td>28.0</td>\n      <td>Dr. H. Thanisch (Erben Müller-Burggraef) 2013 ...</td>\n    </tr>\n    <tr>\n      <th>129967</th>\n      <td>USA</td>\n      <td>Pinot Noir</td>\n      <td>90</td>\n      <td>75.0</td>\n      <td>Citation 2004 Pinot Noir (Oregon)</td>\n    </tr>\n    <tr>\n      <th>129968</th>\n      <td>France</td>\n      <td>Gewürztraminer</td>\n      <td>90</td>\n      <td>30.0</td>\n      <td>Domaine Gresser 2013 Kritt Gewurztraminer (Als...</td>\n    </tr>\n    <tr>\n      <th>129969</th>\n      <td>France</td>\n      <td>Pinot Gris</td>\n      <td>90</td>\n      <td>32.0</td>\n      <td>Domaine Marcel Deiss 2012 Pinot Gris (Alsace)</td>\n    </tr>\n    <tr>\n      <th>129970</th>\n      <td>France</td>\n      <td>Gewürztraminer</td>\n      <td>90</td>\n      <td>21.0</td>\n      <td>Domaine Schoffit 2012 Lieu-dit Harth Cuvée Car...</td>\n    </tr>\n  </tbody>\n</table>\n<p>119887 rows × 5 columns</p>\n</div>"
     },
     "metadata": {},
     "execution_count": 43
    }
   ],
   "source": [
    "clean_wine.drop_duplicates()"
   ]
  },
  {
   "cell_type": "code",
   "execution_count": 82,
   "metadata": {},
   "outputs": [
    {
     "output_type": "execute_result",
     "data": {
      "text/plain": [
       "         country             variety  points  price  \\\n",
       "0       Portugal      Portuguese Red      87   15.0   \n",
       "1            USA          Pinot Gris      87   14.0   \n",
       "2            USA            Riesling      87   13.0   \n",
       "3            USA          Pinot Noir      87   65.0   \n",
       "4          Spain  Tempranillo-Merlot      87   15.0   \n",
       "...          ...                 ...     ...    ...   \n",
       "111434   Germany            Riesling      90   28.0   \n",
       "111435       USA          Pinot Noir      90   75.0   \n",
       "111436    France      Gewürztraminer      90   30.0   \n",
       "111437    France          Pinot Gris      90   32.0   \n",
       "111438    France      Gewürztraminer      90   21.0   \n",
       "\n",
       "                                                    title  \n",
       "0           Quinta dos Avidagos 2011 Avidagos Red (Douro)  \n",
       "1           Rainstorm 2013 Pinot Gris (Willamette Valley)  \n",
       "2       St. Julian 2013 Reserve Late Harvest Riesling ...  \n",
       "3       Sweet Cheeks 2012 Vintner's Reserve Wild Child...  \n",
       "4       Tandem 2011 Ars In Vitro Tempranillo-Merlot (N...  \n",
       "...                                                   ...  \n",
       "111434  Dr. H. Thanisch (Erben Müller-Burggraef) 2013 ...  \n",
       "111435                  Citation 2004 Pinot Noir (Oregon)  \n",
       "111436  Domaine Gresser 2013 Kritt Gewurztraminer (Als...  \n",
       "111437      Domaine Marcel Deiss 2012 Pinot Gris (Alsace)  \n",
       "111438  Domaine Schoffit 2012 Lieu-dit Harth Cuvée Car...  \n",
       "\n",
       "[111439 rows x 5 columns]"
      ],
      "text/html": "<div>\n<style scoped>\n    .dataframe tbody tr th:only-of-type {\n        vertical-align: middle;\n    }\n\n    .dataframe tbody tr th {\n        vertical-align: top;\n    }\n\n    .dataframe thead th {\n        text-align: right;\n    }\n</style>\n<table border=\"1\" class=\"dataframe\">\n  <thead>\n    <tr style=\"text-align: right;\">\n      <th></th>\n      <th>country</th>\n      <th>variety</th>\n      <th>points</th>\n      <th>price</th>\n      <th>title</th>\n    </tr>\n  </thead>\n  <tbody>\n    <tr>\n      <th>0</th>\n      <td>Portugal</td>\n      <td>Portuguese Red</td>\n      <td>87</td>\n      <td>15.0</td>\n      <td>Quinta dos Avidagos 2011 Avidagos Red (Douro)</td>\n    </tr>\n    <tr>\n      <th>1</th>\n      <td>USA</td>\n      <td>Pinot Gris</td>\n      <td>87</td>\n      <td>14.0</td>\n      <td>Rainstorm 2013 Pinot Gris (Willamette Valley)</td>\n    </tr>\n    <tr>\n      <th>2</th>\n      <td>USA</td>\n      <td>Riesling</td>\n      <td>87</td>\n      <td>13.0</td>\n      <td>St. Julian 2013 Reserve Late Harvest Riesling ...</td>\n    </tr>\n    <tr>\n      <th>3</th>\n      <td>USA</td>\n      <td>Pinot Noir</td>\n      <td>87</td>\n      <td>65.0</td>\n      <td>Sweet Cheeks 2012 Vintner's Reserve Wild Child...</td>\n    </tr>\n    <tr>\n      <th>4</th>\n      <td>Spain</td>\n      <td>Tempranillo-Merlot</td>\n      <td>87</td>\n      <td>15.0</td>\n      <td>Tandem 2011 Ars In Vitro Tempranillo-Merlot (N...</td>\n    </tr>\n    <tr>\n      <th>...</th>\n      <td>...</td>\n      <td>...</td>\n      <td>...</td>\n      <td>...</td>\n      <td>...</td>\n    </tr>\n    <tr>\n      <th>111434</th>\n      <td>Germany</td>\n      <td>Riesling</td>\n      <td>90</td>\n      <td>28.0</td>\n      <td>Dr. H. Thanisch (Erben Müller-Burggraef) 2013 ...</td>\n    </tr>\n    <tr>\n      <th>111435</th>\n      <td>USA</td>\n      <td>Pinot Noir</td>\n      <td>90</td>\n      <td>75.0</td>\n      <td>Citation 2004 Pinot Noir (Oregon)</td>\n    </tr>\n    <tr>\n      <th>111436</th>\n      <td>France</td>\n      <td>Gewürztraminer</td>\n      <td>90</td>\n      <td>30.0</td>\n      <td>Domaine Gresser 2013 Kritt Gewurztraminer (Als...</td>\n    </tr>\n    <tr>\n      <th>111437</th>\n      <td>France</td>\n      <td>Pinot Gris</td>\n      <td>90</td>\n      <td>32.0</td>\n      <td>Domaine Marcel Deiss 2012 Pinot Gris (Alsace)</td>\n    </tr>\n    <tr>\n      <th>111438</th>\n      <td>France</td>\n      <td>Gewürztraminer</td>\n      <td>90</td>\n      <td>21.0</td>\n      <td>Domaine Schoffit 2012 Lieu-dit Harth Cuvée Car...</td>\n    </tr>\n  </tbody>\n</table>\n<p>111439 rows × 5 columns</p>\n</div>"
     },
     "metadata": {},
     "execution_count": 82
    }
   ],
   "source": [
    "clean_wine = clean_wine.drop_duplicates().dropna(axis=0).reset_index()\n",
    "clean_wine"
   ]
  },
  {
   "cell_type": "code",
   "execution_count": 20,
   "metadata": {},
   "outputs": [
    {
     "output_type": "execute_result",
     "data": {
      "text/plain": [
       "       country  beer_servings  spirit_servings  wine_servings  \\\n",
       "0  Afghanistan              0                0              0   \n",
       "1      Albania             89              132             54   \n",
       "2      Algeria             25                0             14   \n",
       "3      Andorra            245              138            312   \n",
       "4       Angola            217               57             45   \n",
       "\n",
       "   total_litres_of_pure_alcohol  \n",
       "0                           0.0  \n",
       "1                           4.9  \n",
       "2                           0.7  \n",
       "3                          12.4  \n",
       "4                           5.9  "
      ],
      "text/html": "<div>\n<style scoped>\n    .dataframe tbody tr th:only-of-type {\n        vertical-align: middle;\n    }\n\n    .dataframe tbody tr th {\n        vertical-align: top;\n    }\n\n    .dataframe thead th {\n        text-align: right;\n    }\n</style>\n<table border=\"1\" class=\"dataframe\">\n  <thead>\n    <tr style=\"text-align: right;\">\n      <th></th>\n      <th>country</th>\n      <th>beer_servings</th>\n      <th>spirit_servings</th>\n      <th>wine_servings</th>\n      <th>total_litres_of_pure_alcohol</th>\n    </tr>\n  </thead>\n  <tbody>\n    <tr>\n      <th>0</th>\n      <td>Afghanistan</td>\n      <td>0</td>\n      <td>0</td>\n      <td>0</td>\n      <td>0.0</td>\n    </tr>\n    <tr>\n      <th>1</th>\n      <td>Albania</td>\n      <td>89</td>\n      <td>132</td>\n      <td>54</td>\n      <td>4.9</td>\n    </tr>\n    <tr>\n      <th>2</th>\n      <td>Algeria</td>\n      <td>25</td>\n      <td>0</td>\n      <td>14</td>\n      <td>0.7</td>\n    </tr>\n    <tr>\n      <th>3</th>\n      <td>Andorra</td>\n      <td>245</td>\n      <td>138</td>\n      <td>312</td>\n      <td>12.4</td>\n    </tr>\n    <tr>\n      <th>4</th>\n      <td>Angola</td>\n      <td>217</td>\n      <td>57</td>\n      <td>45</td>\n      <td>5.9</td>\n    </tr>\n  </tbody>\n</table>\n</div>"
     },
     "metadata": {},
     "execution_count": 20
    }
   ],
   "source": [
    "#pull in csv file\n",
    "csv_file=r\"Resources\\alcohol_consumption.csv\"\n",
    "ac_data_df=pd.read_csv(csv_file)\n",
    "ac_data_df.head()"
   ]
  },
  {
   "cell_type": "code",
   "execution_count": 21,
   "metadata": {},
   "outputs": [
    {
     "output_type": "execute_result",
     "data": {
      "text/plain": [
       "       country  wine_servings\n",
       "0  Afghanistan              0\n",
       "1      Albania             54\n",
       "2      Algeria             14\n",
       "3      Andorra            312\n",
       "4       Angola             45"
      ],
      "text/html": "<div>\n<style scoped>\n    .dataframe tbody tr th:only-of-type {\n        vertical-align: middle;\n    }\n\n    .dataframe tbody tr th {\n        vertical-align: top;\n    }\n\n    .dataframe thead th {\n        text-align: right;\n    }\n</style>\n<table border=\"1\" class=\"dataframe\">\n  <thead>\n    <tr style=\"text-align: right;\">\n      <th></th>\n      <th>country</th>\n      <th>wine_servings</th>\n    </tr>\n  </thead>\n  <tbody>\n    <tr>\n      <th>0</th>\n      <td>Afghanistan</td>\n      <td>0</td>\n    </tr>\n    <tr>\n      <th>1</th>\n      <td>Albania</td>\n      <td>54</td>\n    </tr>\n    <tr>\n      <th>2</th>\n      <td>Algeria</td>\n      <td>14</td>\n    </tr>\n    <tr>\n      <th>3</th>\n      <td>Andorra</td>\n      <td>312</td>\n    </tr>\n    <tr>\n      <th>4</th>\n      <td>Angola</td>\n      <td>45</td>\n    </tr>\n  </tbody>\n</table>\n</div>"
     },
     "metadata": {},
     "execution_count": 21
    }
   ],
   "source": [
    "#only pull in columns we need\n",
    "updated_ac=ac_data_df[['country','wine_servings']].copy()\n",
    "updated_ac.head()"
   ]
  },
  {
   "cell_type": "code",
   "execution_count": 97,
   "metadata": {},
   "outputs": [
    {
     "output_type": "execute_result",
     "data": {
      "text/plain": [
       "          country           variety  points  price  \\\n",
       "0        Portugal    Portuguese Red      87   15.0   \n",
       "1        Portugal  Portuguese White      91   30.0   \n",
       "2        Portugal    Portuguese Red      91   26.0   \n",
       "3        Portugal    Portuguese Red      90   28.0   \n",
       "4        Portugal    Portuguese Red      90   20.0   \n",
       "...           ...               ...     ...    ...   \n",
       "111373  Macedonia       White Blend      85   15.0   \n",
       "111374  Macedonia            Vranec      84   16.0   \n",
       "111375  Macedonia        Pinot Noir      84   15.0   \n",
       "111376  Macedonia         Red Blend      86   16.0   \n",
       "111377      China    Cabernet Blend      89   18.0   \n",
       "\n",
       "                                                    title  wine_servings  \n",
       "0           Quinta dos Avidagos 2011 Avidagos Red (Douro)            339  \n",
       "1       Herdade Grande 2014 Gerações Colheita Seleccio...            339  \n",
       "2       Casa Santa Vitória 2013 Grande Reserva Tinto R...            339  \n",
       "3       Adega Cooperativa de Borba 2012 Montes Claros ...            339  \n",
       "4       Quinta de Foz de Arouce 2013 Red (Beira Atlant...            339  \n",
       "...                                                   ...            ...  \n",
       "111373                 Bovin 2007 Symphony White (Tikves)             86  \n",
       "111374                         Bovin 2007 Vranec (Tikves)             86  \n",
       "111375                   Macedon 2010 Pinot Noir (Tikves)             86  \n",
       "111376                  Bovin 2006 Alexandar Red (Tikves)             86  \n",
       "111377  Chateau Changyu-Castel 2009 Noble Dragon Red (...              8  \n",
       "\n",
       "[111378 rows x 6 columns]"
      ],
      "text/html": "<div>\n<style scoped>\n    .dataframe tbody tr th:only-of-type {\n        vertical-align: middle;\n    }\n\n    .dataframe tbody tr th {\n        vertical-align: top;\n    }\n\n    .dataframe thead th {\n        text-align: right;\n    }\n</style>\n<table border=\"1\" class=\"dataframe\">\n  <thead>\n    <tr style=\"text-align: right;\">\n      <th></th>\n      <th>country</th>\n      <th>variety</th>\n      <th>points</th>\n      <th>price</th>\n      <th>title</th>\n      <th>wine_servings</th>\n    </tr>\n  </thead>\n  <tbody>\n    <tr>\n      <th>0</th>\n      <td>Portugal</td>\n      <td>Portuguese Red</td>\n      <td>87</td>\n      <td>15.0</td>\n      <td>Quinta dos Avidagos 2011 Avidagos Red (Douro)</td>\n      <td>339</td>\n    </tr>\n    <tr>\n      <th>1</th>\n      <td>Portugal</td>\n      <td>Portuguese White</td>\n      <td>91</td>\n      <td>30.0</td>\n      <td>Herdade Grande 2014 Gerações Colheita Seleccio...</td>\n      <td>339</td>\n    </tr>\n    <tr>\n      <th>2</th>\n      <td>Portugal</td>\n      <td>Portuguese Red</td>\n      <td>91</td>\n      <td>26.0</td>\n      <td>Casa Santa Vitória 2013 Grande Reserva Tinto R...</td>\n      <td>339</td>\n    </tr>\n    <tr>\n      <th>3</th>\n      <td>Portugal</td>\n      <td>Portuguese Red</td>\n      <td>90</td>\n      <td>28.0</td>\n      <td>Adega Cooperativa de Borba 2012 Montes Claros ...</td>\n      <td>339</td>\n    </tr>\n    <tr>\n      <th>4</th>\n      <td>Portugal</td>\n      <td>Portuguese Red</td>\n      <td>90</td>\n      <td>20.0</td>\n      <td>Quinta de Foz de Arouce 2013 Red (Beira Atlant...</td>\n      <td>339</td>\n    </tr>\n    <tr>\n      <th>...</th>\n      <td>...</td>\n      <td>...</td>\n      <td>...</td>\n      <td>...</td>\n      <td>...</td>\n      <td>...</td>\n    </tr>\n    <tr>\n      <th>111373</th>\n      <td>Macedonia</td>\n      <td>White Blend</td>\n      <td>85</td>\n      <td>15.0</td>\n      <td>Bovin 2007 Symphony White (Tikves)</td>\n      <td>86</td>\n    </tr>\n    <tr>\n      <th>111374</th>\n      <td>Macedonia</td>\n      <td>Vranec</td>\n      <td>84</td>\n      <td>16.0</td>\n      <td>Bovin 2007 Vranec (Tikves)</td>\n      <td>86</td>\n    </tr>\n    <tr>\n      <th>111375</th>\n      <td>Macedonia</td>\n      <td>Pinot Noir</td>\n      <td>84</td>\n      <td>15.0</td>\n      <td>Macedon 2010 Pinot Noir (Tikves)</td>\n      <td>86</td>\n    </tr>\n    <tr>\n      <th>111376</th>\n      <td>Macedonia</td>\n      <td>Red Blend</td>\n      <td>86</td>\n      <td>16.0</td>\n      <td>Bovin 2006 Alexandar Red (Tikves)</td>\n      <td>86</td>\n    </tr>\n    <tr>\n      <th>111377</th>\n      <td>China</td>\n      <td>Cabernet Blend</td>\n      <td>89</td>\n      <td>18.0</td>\n      <td>Chateau Changyu-Castel 2009 Noble Dragon Red (...</td>\n      <td>8</td>\n    </tr>\n  </tbody>\n</table>\n<p>111378 rows × 6 columns</p>\n</div>"
     },
     "metadata": {},
     "execution_count": 97
    }
   ],
   "source": [
    "merge_countries = pd.merge(clean_wine, updated_ac, how='inner', on='country')\n",
    "merge_countries"
   ]
  },
  {
   "cell_type": "code",
   "execution_count": 98,
   "metadata": {},
   "outputs": [
    {
     "output_type": "execute_result",
     "data": {
      "text/plain": [
       "                                 variety  points\n",
       "country                                         \n",
       "Argentina                        Barbera      80\n",
       "Armenia                          Kangoun      87\n",
       "Australia       Bordeaux-style Red Blend      80\n",
       "Austria               Austrian Red Blend      82\n",
       "Brazil          Bordeaux-style Red Blend      80\n",
       "Bulgaria        Bordeaux-style Red Blend      80\n",
       "Canada                             Apple      82\n",
       "Chile           Bordeaux-style Red Blend      80\n",
       "China                     Cabernet Blend      89\n",
       "Croatia                            Babić      81\n",
       "Cyprus                         Red Blend      85\n",
       "Czech Republic          Cabernet Moravia      84\n",
       "France                          Abouriou      80\n",
       "Georgia                          Chinuri      82\n",
       "Germany                        Auxerrois      81\n",
       "Greece                       Agiorgitiko      82\n",
       "Hungary                       Blauburger      81\n",
       "India                       Chenin Blanc      87\n",
       "Israel                           Argaman      80\n",
       "Italy                          Aglianico      80\n",
       "Lebanon                       Chardonnay      82\n",
       "Luxembourg                     Auxerrois      88\n",
       "Macedonia                     Chardonnay      84\n",
       "Mexico          Bordeaux-style Red Blend      80\n",
       "Moldova         Bordeaux-style Red Blend      82\n",
       "Morocco                   Cabernet Blend      85\n",
       "New Zealand     Bordeaux-style Red Blend      80\n",
       "Peru            Cabernet Sauvignon-Syrah      80\n",
       "Portugal                     Alfrocheiro      80\n",
       "Romania               Cabernet Sauvignon      82\n",
       "Serbia                Blauer Portugieser      86\n",
       "Slovakia                        Riesling      87\n",
       "Slovenia        Bordeaux-style Red Blend      82\n",
       "South Africa    Bordeaux-style Red Blend      82\n",
       "Spain                              Airen      80\n",
       "Switzerland                    Chasselas      83\n",
       "Turkey          Bordeaux-style Red Blend      84\n",
       "USA                             Abouriou      80\n",
       "Ukraine                         Bastardo      82\n",
       "Uruguay                         Albariño      80"
      ],
      "text/html": "<div>\n<style scoped>\n    .dataframe tbody tr th:only-of-type {\n        vertical-align: middle;\n    }\n\n    .dataframe tbody tr th {\n        vertical-align: top;\n    }\n\n    .dataframe thead th {\n        text-align: right;\n    }\n</style>\n<table border=\"1\" class=\"dataframe\">\n  <thead>\n    <tr style=\"text-align: right;\">\n      <th></th>\n      <th>variety</th>\n      <th>points</th>\n    </tr>\n    <tr>\n      <th>country</th>\n      <th></th>\n      <th></th>\n    </tr>\n  </thead>\n  <tbody>\n    <tr>\n      <th>Argentina</th>\n      <td>Barbera</td>\n      <td>80</td>\n    </tr>\n    <tr>\n      <th>Armenia</th>\n      <td>Kangoun</td>\n      <td>87</td>\n    </tr>\n    <tr>\n      <th>Australia</th>\n      <td>Bordeaux-style Red Blend</td>\n      <td>80</td>\n    </tr>\n    <tr>\n      <th>Austria</th>\n      <td>Austrian Red Blend</td>\n      <td>82</td>\n    </tr>\n    <tr>\n      <th>Brazil</th>\n      <td>Bordeaux-style Red Blend</td>\n      <td>80</td>\n    </tr>\n    <tr>\n      <th>Bulgaria</th>\n      <td>Bordeaux-style Red Blend</td>\n      <td>80</td>\n    </tr>\n    <tr>\n      <th>Canada</th>\n      <td>Apple</td>\n      <td>82</td>\n    </tr>\n    <tr>\n      <th>Chile</th>\n      <td>Bordeaux-style Red Blend</td>\n      <td>80</td>\n    </tr>\n    <tr>\n      <th>China</th>\n      <td>Cabernet Blend</td>\n      <td>89</td>\n    </tr>\n    <tr>\n      <th>Croatia</th>\n      <td>Babić</td>\n      <td>81</td>\n    </tr>\n    <tr>\n      <th>Cyprus</th>\n      <td>Red Blend</td>\n      <td>85</td>\n    </tr>\n    <tr>\n      <th>Czech Republic</th>\n      <td>Cabernet Moravia</td>\n      <td>84</td>\n    </tr>\n    <tr>\n      <th>France</th>\n      <td>Abouriou</td>\n      <td>80</td>\n    </tr>\n    <tr>\n      <th>Georgia</th>\n      <td>Chinuri</td>\n      <td>82</td>\n    </tr>\n    <tr>\n      <th>Germany</th>\n      <td>Auxerrois</td>\n      <td>81</td>\n    </tr>\n    <tr>\n      <th>Greece</th>\n      <td>Agiorgitiko</td>\n      <td>82</td>\n    </tr>\n    <tr>\n      <th>Hungary</th>\n      <td>Blauburger</td>\n      <td>81</td>\n    </tr>\n    <tr>\n      <th>India</th>\n      <td>Chenin Blanc</td>\n      <td>87</td>\n    </tr>\n    <tr>\n      <th>Israel</th>\n      <td>Argaman</td>\n      <td>80</td>\n    </tr>\n    <tr>\n      <th>Italy</th>\n      <td>Aglianico</td>\n      <td>80</td>\n    </tr>\n    <tr>\n      <th>Lebanon</th>\n      <td>Chardonnay</td>\n      <td>82</td>\n    </tr>\n    <tr>\n      <th>Luxembourg</th>\n      <td>Auxerrois</td>\n      <td>88</td>\n    </tr>\n    <tr>\n      <th>Macedonia</th>\n      <td>Chardonnay</td>\n      <td>84</td>\n    </tr>\n    <tr>\n      <th>Mexico</th>\n      <td>Bordeaux-style Red Blend</td>\n      <td>80</td>\n    </tr>\n    <tr>\n      <th>Moldova</th>\n      <td>Bordeaux-style Red Blend</td>\n      <td>82</td>\n    </tr>\n    <tr>\n      <th>Morocco</th>\n      <td>Cabernet Blend</td>\n      <td>85</td>\n    </tr>\n    <tr>\n      <th>New Zealand</th>\n      <td>Bordeaux-style Red Blend</td>\n      <td>80</td>\n    </tr>\n    <tr>\n      <th>Peru</th>\n      <td>Cabernet Sauvignon-Syrah</td>\n      <td>80</td>\n    </tr>\n    <tr>\n      <th>Portugal</th>\n      <td>Alfrocheiro</td>\n      <td>80</td>\n    </tr>\n    <tr>\n      <th>Romania</th>\n      <td>Cabernet Sauvignon</td>\n      <td>82</td>\n    </tr>\n    <tr>\n      <th>Serbia</th>\n      <td>Blauer Portugieser</td>\n      <td>86</td>\n    </tr>\n    <tr>\n      <th>Slovakia</th>\n      <td>Riesling</td>\n      <td>87</td>\n    </tr>\n    <tr>\n      <th>Slovenia</th>\n      <td>Bordeaux-style Red Blend</td>\n      <td>82</td>\n    </tr>\n    <tr>\n      <th>South Africa</th>\n      <td>Bordeaux-style Red Blend</td>\n      <td>82</td>\n    </tr>\n    <tr>\n      <th>Spain</th>\n      <td>Airen</td>\n      <td>80</td>\n    </tr>\n    <tr>\n      <th>Switzerland</th>\n      <td>Chasselas</td>\n      <td>83</td>\n    </tr>\n    <tr>\n      <th>Turkey</th>\n      <td>Bordeaux-style Red Blend</td>\n      <td>84</td>\n    </tr>\n    <tr>\n      <th>USA</th>\n      <td>Abouriou</td>\n      <td>80</td>\n    </tr>\n    <tr>\n      <th>Ukraine</th>\n      <td>Bastardo</td>\n      <td>82</td>\n    </tr>\n    <tr>\n      <th>Uruguay</th>\n      <td>Albariño</td>\n      <td>80</td>\n    </tr>\n  </tbody>\n</table>\n</div>"
     },
     "metadata": {},
     "execution_count": 98
    }
   ],
   "source": [
    "#from clean_wine: country, variety, points -- group by country\n",
    "wine_variety = merge_countries.groupby('country')['variety','points'].min()\n",
    "wine_variety\n"
   ]
  },
  {
   "cell_type": "code",
   "execution_count": 100,
   "metadata": {},
   "outputs": [
    {
     "output_type": "execute_result",
     "data": {
      "text/plain": [
       "                                 variety  price\n",
       "country                                        \n",
       "Argentina                        Barbera    4.0\n",
       "Armenia                          Kangoun   14.0\n",
       "Australia       Bordeaux-style Red Blend    5.0\n",
       "Austria               Austrian Red Blend    7.0\n",
       "Brazil          Bordeaux-style Red Blend   10.0\n",
       "Bulgaria        Bordeaux-style Red Blend    8.0\n",
       "Canada                             Apple   12.0\n",
       "Chile           Bordeaux-style Red Blend    5.0\n",
       "China                     Cabernet Blend   18.0\n",
       "Croatia                            Babić   12.0\n",
       "Cyprus                         Red Blend   11.0\n",
       "Czech Republic          Cabernet Moravia   15.0\n",
       "France                          Abouriou    5.0\n",
       "Georgia                          Chinuri    9.0\n",
       "Germany                        Auxerrois    5.0\n",
       "Greece                       Agiorgitiko    8.0\n",
       "Hungary                       Blauburger   10.0\n",
       "India                       Chenin Blanc   10.0\n",
       "Israel                           Argaman    8.0\n",
       "Italy                          Aglianico    5.0\n",
       "Lebanon                       Chardonnay   13.0\n",
       "Luxembourg                     Auxerrois   16.0\n",
       "Macedonia                     Chardonnay   15.0\n",
       "Mexico          Bordeaux-style Red Blend    8.0\n",
       "Moldova         Bordeaux-style Red Blend    8.0\n",
       "Morocco                   Cabernet Blend   14.0\n",
       "New Zealand     Bordeaux-style Red Blend    7.0\n",
       "Peru            Cabernet Sauvignon-Syrah   10.0\n",
       "Portugal                     Alfrocheiro    5.0\n",
       "Romania               Cabernet Sauvignon    4.0\n",
       "Serbia                Blauer Portugieser   15.0\n",
       "Slovakia                        Riesling   16.0\n",
       "Slovenia        Bordeaux-style Red Blend    7.0\n",
       "South Africa    Bordeaux-style Red Blend    5.0\n",
       "Spain                              Airen    4.0\n",
       "Switzerland                    Chasselas   21.0\n",
       "Turkey          Bordeaux-style Red Blend   14.0\n",
       "USA                             Abouriou    4.0\n",
       "Ukraine                         Bastardo    6.0\n",
       "Uruguay                         Albariño   10.0"
      ],
      "text/html": "<div>\n<style scoped>\n    .dataframe tbody tr th:only-of-type {\n        vertical-align: middle;\n    }\n\n    .dataframe tbody tr th {\n        vertical-align: top;\n    }\n\n    .dataframe thead th {\n        text-align: right;\n    }\n</style>\n<table border=\"1\" class=\"dataframe\">\n  <thead>\n    <tr style=\"text-align: right;\">\n      <th></th>\n      <th>variety</th>\n      <th>price</th>\n    </tr>\n    <tr>\n      <th>country</th>\n      <th></th>\n      <th></th>\n    </tr>\n  </thead>\n  <tbody>\n    <tr>\n      <th>Argentina</th>\n      <td>Barbera</td>\n      <td>4.0</td>\n    </tr>\n    <tr>\n      <th>Armenia</th>\n      <td>Kangoun</td>\n      <td>14.0</td>\n    </tr>\n    <tr>\n      <th>Australia</th>\n      <td>Bordeaux-style Red Blend</td>\n      <td>5.0</td>\n    </tr>\n    <tr>\n      <th>Austria</th>\n      <td>Austrian Red Blend</td>\n      <td>7.0</td>\n    </tr>\n    <tr>\n      <th>Brazil</th>\n      <td>Bordeaux-style Red Blend</td>\n      <td>10.0</td>\n    </tr>\n    <tr>\n      <th>Bulgaria</th>\n      <td>Bordeaux-style Red Blend</td>\n      <td>8.0</td>\n    </tr>\n    <tr>\n      <th>Canada</th>\n      <td>Apple</td>\n      <td>12.0</td>\n    </tr>\n    <tr>\n      <th>Chile</th>\n      <td>Bordeaux-style Red Blend</td>\n      <td>5.0</td>\n    </tr>\n    <tr>\n      <th>China</th>\n      <td>Cabernet Blend</td>\n      <td>18.0</td>\n    </tr>\n    <tr>\n      <th>Croatia</th>\n      <td>Babić</td>\n      <td>12.0</td>\n    </tr>\n    <tr>\n      <th>Cyprus</th>\n      <td>Red Blend</td>\n      <td>11.0</td>\n    </tr>\n    <tr>\n      <th>Czech Republic</th>\n      <td>Cabernet Moravia</td>\n      <td>15.0</td>\n    </tr>\n    <tr>\n      <th>France</th>\n      <td>Abouriou</td>\n      <td>5.0</td>\n    </tr>\n    <tr>\n      <th>Georgia</th>\n      <td>Chinuri</td>\n      <td>9.0</td>\n    </tr>\n    <tr>\n      <th>Germany</th>\n      <td>Auxerrois</td>\n      <td>5.0</td>\n    </tr>\n    <tr>\n      <th>Greece</th>\n      <td>Agiorgitiko</td>\n      <td>8.0</td>\n    </tr>\n    <tr>\n      <th>Hungary</th>\n      <td>Blauburger</td>\n      <td>10.0</td>\n    </tr>\n    <tr>\n      <th>India</th>\n      <td>Chenin Blanc</td>\n      <td>10.0</td>\n    </tr>\n    <tr>\n      <th>Israel</th>\n      <td>Argaman</td>\n      <td>8.0</td>\n    </tr>\n    <tr>\n      <th>Italy</th>\n      <td>Aglianico</td>\n      <td>5.0</td>\n    </tr>\n    <tr>\n      <th>Lebanon</th>\n      <td>Chardonnay</td>\n      <td>13.0</td>\n    </tr>\n    <tr>\n      <th>Luxembourg</th>\n      <td>Auxerrois</td>\n      <td>16.0</td>\n    </tr>\n    <tr>\n      <th>Macedonia</th>\n      <td>Chardonnay</td>\n      <td>15.0</td>\n    </tr>\n    <tr>\n      <th>Mexico</th>\n      <td>Bordeaux-style Red Blend</td>\n      <td>8.0</td>\n    </tr>\n    <tr>\n      <th>Moldova</th>\n      <td>Bordeaux-style Red Blend</td>\n      <td>8.0</td>\n    </tr>\n    <tr>\n      <th>Morocco</th>\n      <td>Cabernet Blend</td>\n      <td>14.0</td>\n    </tr>\n    <tr>\n      <th>New Zealand</th>\n      <td>Bordeaux-style Red Blend</td>\n      <td>7.0</td>\n    </tr>\n    <tr>\n      <th>Peru</th>\n      <td>Cabernet Sauvignon-Syrah</td>\n      <td>10.0</td>\n    </tr>\n    <tr>\n      <th>Portugal</th>\n      <td>Alfrocheiro</td>\n      <td>5.0</td>\n    </tr>\n    <tr>\n      <th>Romania</th>\n      <td>Cabernet Sauvignon</td>\n      <td>4.0</td>\n    </tr>\n    <tr>\n      <th>Serbia</th>\n      <td>Blauer Portugieser</td>\n      <td>15.0</td>\n    </tr>\n    <tr>\n      <th>Slovakia</th>\n      <td>Riesling</td>\n      <td>16.0</td>\n    </tr>\n    <tr>\n      <th>Slovenia</th>\n      <td>Bordeaux-style Red Blend</td>\n      <td>7.0</td>\n    </tr>\n    <tr>\n      <th>South Africa</th>\n      <td>Bordeaux-style Red Blend</td>\n      <td>5.0</td>\n    </tr>\n    <tr>\n      <th>Spain</th>\n      <td>Airen</td>\n      <td>4.0</td>\n    </tr>\n    <tr>\n      <th>Switzerland</th>\n      <td>Chasselas</td>\n      <td>21.0</td>\n    </tr>\n    <tr>\n      <th>Turkey</th>\n      <td>Bordeaux-style Red Blend</td>\n      <td>14.0</td>\n    </tr>\n    <tr>\n      <th>USA</th>\n      <td>Abouriou</td>\n      <td>4.0</td>\n    </tr>\n    <tr>\n      <th>Ukraine</th>\n      <td>Bastardo</td>\n      <td>6.0</td>\n    </tr>\n    <tr>\n      <th>Uruguay</th>\n      <td>Albariño</td>\n      <td>10.0</td>\n    </tr>\n  </tbody>\n</table>\n</div>"
     },
     "metadata": {},
     "execution_count": 100
    }
   ],
   "source": [
    "#from clean_wine: price, points grouped by variety\n",
    "wine_price = merge_countries.groupby('country')['variety','price'].min()\n",
    "wine_price"
   ]
  },
  {
   "cell_type": "code",
   "execution_count": null,
   "metadata": {},
   "outputs": [],
   "source": []
  },
  {
   "cell_type": "code",
   "execution_count": 29,
   "metadata": {},
   "outputs": [],
   "source": [
    "# Create connection\n",
    "connection_string = f\"postgres:{ps}@localhost:5432/wine_db\"\n",
    "engine = create_engine(f'postgresql://{connection_string}')"
   ]
  },
  {
   "cell_type": "code",
   "execution_count": 30,
   "metadata": {},
   "outputs": [
    {
     "output_type": "execute_result",
     "data": {
      "text/plain": [
       "['alcohol_consumption', 'wine_reviews']"
      ]
     },
     "metadata": {},
     "execution_count": 30
    }
   ],
   "source": [
    "engine.table_names()"
   ]
  },
  {
   "cell_type": "code",
   "execution_count": 88,
   "metadata": {},
   "outputs": [],
   "source": [
    "clean_wine.to_sql(name='wine_reviews', con=engine, if_exists='append', index=False)"
   ]
  },
  {
   "cell_type": "code",
   "execution_count": 89,
   "metadata": {},
   "outputs": [],
   "source": [
    "updated_ac.to_sql(name=\"alcohol_consumption\", con=engine, if_exists='append', index=False)"
   ]
  }
 ]
}