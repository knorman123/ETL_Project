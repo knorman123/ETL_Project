{
 "metadata": {
  "language_info": {
   "codemirror_mode": {
    "name": "ipython",
    "version": 3
   },
   "file_extension": ".py",
   "mimetype": "text/x-python",
   "name": "python",
   "nbconvert_exporter": "python",
   "pygments_lexer": "ipython3",
   "version": "3.7.9"
  },
  "orig_nbformat": 2,
  "kernelspec": {
   "name": "python3",
   "display_name": "Python 3.7.9 64-bit ('PythonData': conda)",
   "metadata": {
    "interpreter": {
     "hash": "09b9fd081e3d0d3e582ec8770b3e1541d577f0aa57c748b8ddd47553873ffc88"
    }
   }
  }
 },
 "nbformat": 4,
 "nbformat_minor": 2,
 "cells": [
  {
   "cell_type": "code",
   "execution_count": 28,
   "metadata": {},
   "outputs": [],
   "source": [
    "import pandas as pd \n",
    "import json\n",
    "from sqlalchemy import create_engine\n",
    "from config import ps"
   ]
  },
  {
   "cell_type": "code",
   "execution_count": 34,
   "metadata": {},
   "outputs": [
    {
     "output_type": "execute_result",
     "data": {
      "text/plain": [
       "        points                                              title  \\\n",
       "0           87                  Nicosia 2013 Vulkà Bianco  (Etna)   \n",
       "1           87      Quinta dos Avidagos 2011 Avidagos Red (Douro)   \n",
       "2           87      Rainstorm 2013 Pinot Gris (Willamette Valley)   \n",
       "3           87  St. Julian 2013 Reserve Late Harvest Riesling ...   \n",
       "4           87  Sweet Cheeks 2012 Vintner's Reserve Wild Child...   \n",
       "...        ...                                                ...   \n",
       "129966      90  Dr. H. Thanisch (Erben Müller-Burggraef) 2013 ...   \n",
       "129967      90                  Citation 2004 Pinot Noir (Oregon)   \n",
       "129968      90  Domaine Gresser 2013 Kritt Gewurztraminer (Als...   \n",
       "129969      90      Domaine Marcel Deiss 2012 Pinot Gris (Alsace)   \n",
       "129970      90  Domaine Schoffit 2012 Lieu-dit Harth Cuvée Car...   \n",
       "\n",
       "                                              description         taster_name  \\\n",
       "0       Aromas include tropical fruit, broom, brimston...       Kerin O’Keefe   \n",
       "1       This is ripe and fruity, a wine that is smooth...          Roger Voss   \n",
       "2       Tart and snappy, the flavors of lime flesh and...        Paul Gregutt   \n",
       "3       Pineapple rind, lemon pith and orange blossom ...  Alexander Peartree   \n",
       "4       Much like the regular bottling from 2012, this...        Paul Gregutt   \n",
       "...                                                   ...                 ...   \n",
       "129966  Notes of honeysuckle and cantaloupe sweeten th...  Anna Lee C. Iijima   \n",
       "129967  Citation is given as much as a decade of bottl...        Paul Gregutt   \n",
       "129968  Well-drained gravel soil gives this wine its c...          Roger Voss   \n",
       "129969  A dry style of Pinot Gris, this is crisp with ...          Roger Voss   \n",
       "129970  Big, rich and off-dry, this is powered by inte...          Roger Voss   \n",
       "\n",
       "       taster_twitter_handle  price                             designation  \\\n",
       "0               @kerinokeefe    NaN                            Vulkà Bianco   \n",
       "1                 @vossroger   15.0                                Avidagos   \n",
       "2                @paulgwine    14.0                                    None   \n",
       "3                       None   13.0                    Reserve Late Harvest   \n",
       "4                @paulgwine    65.0      Vintner's Reserve Wild Child Block   \n",
       "...                      ...    ...                                     ...   \n",
       "129966                  None   28.0  Brauneberger Juffer-Sonnenuhr Spätlese   \n",
       "129967           @paulgwine    75.0                                    None   \n",
       "129968            @vossroger   30.0                                   Kritt   \n",
       "129969            @vossroger   32.0                                    None   \n",
       "129970            @vossroger   21.0           Lieu-dit Harth Cuvée Caroline   \n",
       "\n",
       "               variety             region_1           region_2  \\\n",
       "0          White Blend                 Etna               None   \n",
       "1       Portuguese Red                 None               None   \n",
       "2           Pinot Gris    Willamette Valley  Willamette Valley   \n",
       "3             Riesling  Lake Michigan Shore               None   \n",
       "4           Pinot Noir    Willamette Valley  Willamette Valley   \n",
       "...                ...                  ...                ...   \n",
       "129966        Riesling                 None               None   \n",
       "129967      Pinot Noir               Oregon       Oregon Other   \n",
       "129968  Gewürztraminer               Alsace               None   \n",
       "129969      Pinot Gris               Alsace               None   \n",
       "129970  Gewürztraminer               Alsace               None   \n",
       "\n",
       "                 province   country                                    winery  \n",
       "0       Sicily & Sardinia     Italy                                   Nicosia  \n",
       "1                   Douro  Portugal                       Quinta dos Avidagos  \n",
       "2                  Oregon        US                                 Rainstorm  \n",
       "3                Michigan        US                                St. Julian  \n",
       "4                  Oregon        US                              Sweet Cheeks  \n",
       "...                   ...       ...                                       ...  \n",
       "129966              Mosel   Germany  Dr. H. Thanisch (Erben Müller-Burggraef)  \n",
       "129967             Oregon        US                                  Citation  \n",
       "129968             Alsace    France                           Domaine Gresser  \n",
       "129969             Alsace    France                      Domaine Marcel Deiss  \n",
       "129970             Alsace    France                          Domaine Schoffit  \n",
       "\n",
       "[129971 rows x 13 columns]"
      ],
      "text/html": "<div>\n<style scoped>\n    .dataframe tbody tr th:only-of-type {\n        vertical-align: middle;\n    }\n\n    .dataframe tbody tr th {\n        vertical-align: top;\n    }\n\n    .dataframe thead th {\n        text-align: right;\n    }\n</style>\n<table border=\"1\" class=\"dataframe\">\n  <thead>\n    <tr style=\"text-align: right;\">\n      <th></th>\n      <th>points</th>\n      <th>title</th>\n      <th>description</th>\n      <th>taster_name</th>\n      <th>taster_twitter_handle</th>\n      <th>price</th>\n      <th>designation</th>\n      <th>variety</th>\n      <th>region_1</th>\n      <th>region_2</th>\n      <th>province</th>\n      <th>country</th>\n      <th>winery</th>\n    </tr>\n  </thead>\n  <tbody>\n    <tr>\n      <th>0</th>\n      <td>87</td>\n      <td>Nicosia 2013 Vulkà Bianco  (Etna)</td>\n      <td>Aromas include tropical fruit, broom, brimston...</td>\n      <td>Kerin O’Keefe</td>\n      <td>@kerinokeefe</td>\n      <td>NaN</td>\n      <td>Vulkà Bianco</td>\n      <td>White Blend</td>\n      <td>Etna</td>\n      <td>None</td>\n      <td>Sicily &amp; Sardinia</td>\n      <td>Italy</td>\n      <td>Nicosia</td>\n    </tr>\n    <tr>\n      <th>1</th>\n      <td>87</td>\n      <td>Quinta dos Avidagos 2011 Avidagos Red (Douro)</td>\n      <td>This is ripe and fruity, a wine that is smooth...</td>\n      <td>Roger Voss</td>\n      <td>@vossroger</td>\n      <td>15.0</td>\n      <td>Avidagos</td>\n      <td>Portuguese Red</td>\n      <td>None</td>\n      <td>None</td>\n      <td>Douro</td>\n      <td>Portugal</td>\n      <td>Quinta dos Avidagos</td>\n    </tr>\n    <tr>\n      <th>2</th>\n      <td>87</td>\n      <td>Rainstorm 2013 Pinot Gris (Willamette Valley)</td>\n      <td>Tart and snappy, the flavors of lime flesh and...</td>\n      <td>Paul Gregutt</td>\n      <td>@paulgwine</td>\n      <td>14.0</td>\n      <td>None</td>\n      <td>Pinot Gris</td>\n      <td>Willamette Valley</td>\n      <td>Willamette Valley</td>\n      <td>Oregon</td>\n      <td>US</td>\n      <td>Rainstorm</td>\n    </tr>\n    <tr>\n      <th>3</th>\n      <td>87</td>\n      <td>St. Julian 2013 Reserve Late Harvest Riesling ...</td>\n      <td>Pineapple rind, lemon pith and orange blossom ...</td>\n      <td>Alexander Peartree</td>\n      <td>None</td>\n      <td>13.0</td>\n      <td>Reserve Late Harvest</td>\n      <td>Riesling</td>\n      <td>Lake Michigan Shore</td>\n      <td>None</td>\n      <td>Michigan</td>\n      <td>US</td>\n      <td>St. Julian</td>\n    </tr>\n    <tr>\n      <th>4</th>\n      <td>87</td>\n      <td>Sweet Cheeks 2012 Vintner's Reserve Wild Child...</td>\n      <td>Much like the regular bottling from 2012, this...</td>\n      <td>Paul Gregutt</td>\n      <td>@paulgwine</td>\n      <td>65.0</td>\n      <td>Vintner's Reserve Wild Child Block</td>\n      <td>Pinot Noir</td>\n      <td>Willamette Valley</td>\n      <td>Willamette Valley</td>\n      <td>Oregon</td>\n      <td>US</td>\n      <td>Sweet Cheeks</td>\n    </tr>\n    <tr>\n      <th>...</th>\n      <td>...</td>\n      <td>...</td>\n      <td>...</td>\n      <td>...</td>\n      <td>...</td>\n      <td>...</td>\n      <td>...</td>\n      <td>...</td>\n      <td>...</td>\n      <td>...</td>\n      <td>...</td>\n      <td>...</td>\n      <td>...</td>\n    </tr>\n    <tr>\n      <th>129966</th>\n      <td>90</td>\n      <td>Dr. H. Thanisch (Erben Müller-Burggraef) 2013 ...</td>\n      <td>Notes of honeysuckle and cantaloupe sweeten th...</td>\n      <td>Anna Lee C. Iijima</td>\n      <td>None</td>\n      <td>28.0</td>\n      <td>Brauneberger Juffer-Sonnenuhr Spätlese</td>\n      <td>Riesling</td>\n      <td>None</td>\n      <td>None</td>\n      <td>Mosel</td>\n      <td>Germany</td>\n      <td>Dr. H. Thanisch (Erben Müller-Burggraef)</td>\n    </tr>\n    <tr>\n      <th>129967</th>\n      <td>90</td>\n      <td>Citation 2004 Pinot Noir (Oregon)</td>\n      <td>Citation is given as much as a decade of bottl...</td>\n      <td>Paul Gregutt</td>\n      <td>@paulgwine</td>\n      <td>75.0</td>\n      <td>None</td>\n      <td>Pinot Noir</td>\n      <td>Oregon</td>\n      <td>Oregon Other</td>\n      <td>Oregon</td>\n      <td>US</td>\n      <td>Citation</td>\n    </tr>\n    <tr>\n      <th>129968</th>\n      <td>90</td>\n      <td>Domaine Gresser 2013 Kritt Gewurztraminer (Als...</td>\n      <td>Well-drained gravel soil gives this wine its c...</td>\n      <td>Roger Voss</td>\n      <td>@vossroger</td>\n      <td>30.0</td>\n      <td>Kritt</td>\n      <td>Gewürztraminer</td>\n      <td>Alsace</td>\n      <td>None</td>\n      <td>Alsace</td>\n      <td>France</td>\n      <td>Domaine Gresser</td>\n    </tr>\n    <tr>\n      <th>129969</th>\n      <td>90</td>\n      <td>Domaine Marcel Deiss 2012 Pinot Gris (Alsace)</td>\n      <td>A dry style of Pinot Gris, this is crisp with ...</td>\n      <td>Roger Voss</td>\n      <td>@vossroger</td>\n      <td>32.0</td>\n      <td>None</td>\n      <td>Pinot Gris</td>\n      <td>Alsace</td>\n      <td>None</td>\n      <td>Alsace</td>\n      <td>France</td>\n      <td>Domaine Marcel Deiss</td>\n    </tr>\n    <tr>\n      <th>129970</th>\n      <td>90</td>\n      <td>Domaine Schoffit 2012 Lieu-dit Harth Cuvée Car...</td>\n      <td>Big, rich and off-dry, this is powered by inte...</td>\n      <td>Roger Voss</td>\n      <td>@vossroger</td>\n      <td>21.0</td>\n      <td>Lieu-dit Harth Cuvée Caroline</td>\n      <td>Gewürztraminer</td>\n      <td>Alsace</td>\n      <td>None</td>\n      <td>Alsace</td>\n      <td>France</td>\n      <td>Domaine Schoffit</td>\n    </tr>\n  </tbody>\n</table>\n<p>129971 rows × 13 columns</p>\n</div>"
     },
     "metadata": {},
     "execution_count": 34
    }
   ],
   "source": [
    "df_wine = pd.read_json(\"Resources\\winemag-data-130k-v2.json\")\n",
    "df_wine"
   ]
  },
  {
   "cell_type": "code",
   "execution_count": 54,
   "metadata": {},
   "outputs": [
    {
     "output_type": "execute_result",
     "data": {
      "text/plain": [
       "         country         variety  points  price  \\\n",
       "0          Italy     White Blend      87    NaN   \n",
       "1       Portugal  Portuguese Red      87   15.0   \n",
       "2             US      Pinot Gris      87   14.0   \n",
       "3             US        Riesling      87   13.0   \n",
       "4             US      Pinot Noir      87   65.0   \n",
       "...          ...             ...     ...    ...   \n",
       "129966   Germany        Riesling      90   28.0   \n",
       "129967        US      Pinot Noir      90   75.0   \n",
       "129968    France  Gewürztraminer      90   30.0   \n",
       "129969    France      Pinot Gris      90   32.0   \n",
       "129970    France  Gewürztraminer      90   21.0   \n",
       "\n",
       "                                                    title  \n",
       "0                       Nicosia 2013 Vulkà Bianco  (Etna)  \n",
       "1           Quinta dos Avidagos 2011 Avidagos Red (Douro)  \n",
       "2           Rainstorm 2013 Pinot Gris (Willamette Valley)  \n",
       "3       St. Julian 2013 Reserve Late Harvest Riesling ...  \n",
       "4       Sweet Cheeks 2012 Vintner's Reserve Wild Child...  \n",
       "...                                                   ...  \n",
       "129966  Dr. H. Thanisch (Erben Müller-Burggraef) 2013 ...  \n",
       "129967                  Citation 2004 Pinot Noir (Oregon)  \n",
       "129968  Domaine Gresser 2013 Kritt Gewurztraminer (Als...  \n",
       "129969      Domaine Marcel Deiss 2012 Pinot Gris (Alsace)  \n",
       "129970  Domaine Schoffit 2012 Lieu-dit Harth Cuvée Car...  \n",
       "\n",
       "[129971 rows x 5 columns]"
      ],
      "text/html": "<div>\n<style scoped>\n    .dataframe tbody tr th:only-of-type {\n        vertical-align: middle;\n    }\n\n    .dataframe tbody tr th {\n        vertical-align: top;\n    }\n\n    .dataframe thead th {\n        text-align: right;\n    }\n</style>\n<table border=\"1\" class=\"dataframe\">\n  <thead>\n    <tr style=\"text-align: right;\">\n      <th></th>\n      <th>country</th>\n      <th>variety</th>\n      <th>points</th>\n      <th>price</th>\n      <th>title</th>\n    </tr>\n  </thead>\n  <tbody>\n    <tr>\n      <th>0</th>\n      <td>Italy</td>\n      <td>White Blend</td>\n      <td>87</td>\n      <td>NaN</td>\n      <td>Nicosia 2013 Vulkà Bianco  (Etna)</td>\n    </tr>\n    <tr>\n      <th>1</th>\n      <td>Portugal</td>\n      <td>Portuguese Red</td>\n      <td>87</td>\n      <td>15.0</td>\n      <td>Quinta dos Avidagos 2011 Avidagos Red (Douro)</td>\n    </tr>\n    <tr>\n      <th>2</th>\n      <td>US</td>\n      <td>Pinot Gris</td>\n      <td>87</td>\n      <td>14.0</td>\n      <td>Rainstorm 2013 Pinot Gris (Willamette Valley)</td>\n    </tr>\n    <tr>\n      <th>3</th>\n      <td>US</td>\n      <td>Riesling</td>\n      <td>87</td>\n      <td>13.0</td>\n      <td>St. Julian 2013 Reserve Late Harvest Riesling ...</td>\n    </tr>\n    <tr>\n      <th>4</th>\n      <td>US</td>\n      <td>Pinot Noir</td>\n      <td>87</td>\n      <td>65.0</td>\n      <td>Sweet Cheeks 2012 Vintner's Reserve Wild Child...</td>\n    </tr>\n    <tr>\n      <th>...</th>\n      <td>...</td>\n      <td>...</td>\n      <td>...</td>\n      <td>...</td>\n      <td>...</td>\n    </tr>\n    <tr>\n      <th>129966</th>\n      <td>Germany</td>\n      <td>Riesling</td>\n      <td>90</td>\n      <td>28.0</td>\n      <td>Dr. H. Thanisch (Erben Müller-Burggraef) 2013 ...</td>\n    </tr>\n    <tr>\n      <th>129967</th>\n      <td>US</td>\n      <td>Pinot Noir</td>\n      <td>90</td>\n      <td>75.0</td>\n      <td>Citation 2004 Pinot Noir (Oregon)</td>\n    </tr>\n    <tr>\n      <th>129968</th>\n      <td>France</td>\n      <td>Gewürztraminer</td>\n      <td>90</td>\n      <td>30.0</td>\n      <td>Domaine Gresser 2013 Kritt Gewurztraminer (Als...</td>\n    </tr>\n    <tr>\n      <th>129969</th>\n      <td>France</td>\n      <td>Pinot Gris</td>\n      <td>90</td>\n      <td>32.0</td>\n      <td>Domaine Marcel Deiss 2012 Pinot Gris (Alsace)</td>\n    </tr>\n    <tr>\n      <th>129970</th>\n      <td>France</td>\n      <td>Gewürztraminer</td>\n      <td>90</td>\n      <td>21.0</td>\n      <td>Domaine Schoffit 2012 Lieu-dit Harth Cuvée Car...</td>\n    </tr>\n  </tbody>\n</table>\n<p>129971 rows × 5 columns</p>\n</div>"
     },
     "metadata": {},
     "execution_count": 54
    }
   ],
   "source": [
    "clean_wine = df_wine[[\"country\", \"variety\", \"points\", \"price\", \"title\"]]\n",
    "clean_wine"
   ]
  },
  {
   "cell_type": "code",
   "execution_count": 56,
   "metadata": {},
   "outputs": [
    {
     "output_type": "execute_result",
     "data": {
      "text/plain": [
       "         country         variety  points  price  \\\n",
       "0          Italy     White Blend      87    NaN   \n",
       "1       Portugal  Portuguese Red      87   15.0   \n",
       "2            USA      Pinot Gris      87   14.0   \n",
       "3            USA        Riesling      87   13.0   \n",
       "4            USA      Pinot Noir      87   65.0   \n",
       "...          ...             ...     ...    ...   \n",
       "129966   Germany        Riesling      90   28.0   \n",
       "129967       USA      Pinot Noir      90   75.0   \n",
       "129968    France  Gewürztraminer      90   30.0   \n",
       "129969    France      Pinot Gris      90   32.0   \n",
       "129970    France  Gewürztraminer      90   21.0   \n",
       "\n",
       "                                                    title  \n",
       "0                       Nicosia 2013 Vulkà Bianco  (Etna)  \n",
       "1           Quinta dos Avidagos 2011 Avidagos Red (Douro)  \n",
       "2           Rainstorm 2013 Pinot Gris (Willamette Valley)  \n",
       "3       St. Julian 2013 Reserve Late Harvest Riesling ...  \n",
       "4       Sweet Cheeks 2012 Vintner's Reserve Wild Child...  \n",
       "...                                                   ...  \n",
       "129966  Dr. H. Thanisch (Erben Müller-Burggraef) 2013 ...  \n",
       "129967                  Citation 2004 Pinot Noir (Oregon)  \n",
       "129968  Domaine Gresser 2013 Kritt Gewurztraminer (Als...  \n",
       "129969      Domaine Marcel Deiss 2012 Pinot Gris (Alsace)  \n",
       "129970  Domaine Schoffit 2012 Lieu-dit Harth Cuvée Car...  \n",
       "\n",
       "[129971 rows x 5 columns]"
      ],
      "text/html": "<div>\n<style scoped>\n    .dataframe tbody tr th:only-of-type {\n        vertical-align: middle;\n    }\n\n    .dataframe tbody tr th {\n        vertical-align: top;\n    }\n\n    .dataframe thead th {\n        text-align: right;\n    }\n</style>\n<table border=\"1\" class=\"dataframe\">\n  <thead>\n    <tr style=\"text-align: right;\">\n      <th></th>\n      <th>country</th>\n      <th>variety</th>\n      <th>points</th>\n      <th>price</th>\n      <th>title</th>\n    </tr>\n  </thead>\n  <tbody>\n    <tr>\n      <th>0</th>\n      <td>Italy</td>\n      <td>White Blend</td>\n      <td>87</td>\n      <td>NaN</td>\n      <td>Nicosia 2013 Vulkà Bianco  (Etna)</td>\n    </tr>\n    <tr>\n      <th>1</th>\n      <td>Portugal</td>\n      <td>Portuguese Red</td>\n      <td>87</td>\n      <td>15.0</td>\n      <td>Quinta dos Avidagos 2011 Avidagos Red (Douro)</td>\n    </tr>\n    <tr>\n      <th>2</th>\n      <td>USA</td>\n      <td>Pinot Gris</td>\n      <td>87</td>\n      <td>14.0</td>\n      <td>Rainstorm 2013 Pinot Gris (Willamette Valley)</td>\n    </tr>\n    <tr>\n      <th>3</th>\n      <td>USA</td>\n      <td>Riesling</td>\n      <td>87</td>\n      <td>13.0</td>\n      <td>St. Julian 2013 Reserve Late Harvest Riesling ...</td>\n    </tr>\n    <tr>\n      <th>4</th>\n      <td>USA</td>\n      <td>Pinot Noir</td>\n      <td>87</td>\n      <td>65.0</td>\n      <td>Sweet Cheeks 2012 Vintner's Reserve Wild Child...</td>\n    </tr>\n    <tr>\n      <th>...</th>\n      <td>...</td>\n      <td>...</td>\n      <td>...</td>\n      <td>...</td>\n      <td>...</td>\n    </tr>\n    <tr>\n      <th>129966</th>\n      <td>Germany</td>\n      <td>Riesling</td>\n      <td>90</td>\n      <td>28.0</td>\n      <td>Dr. H. Thanisch (Erben Müller-Burggraef) 2013 ...</td>\n    </tr>\n    <tr>\n      <th>129967</th>\n      <td>USA</td>\n      <td>Pinot Noir</td>\n      <td>90</td>\n      <td>75.0</td>\n      <td>Citation 2004 Pinot Noir (Oregon)</td>\n    </tr>\n    <tr>\n      <th>129968</th>\n      <td>France</td>\n      <td>Gewürztraminer</td>\n      <td>90</td>\n      <td>30.0</td>\n      <td>Domaine Gresser 2013 Kritt Gewurztraminer (Als...</td>\n    </tr>\n    <tr>\n      <th>129969</th>\n      <td>France</td>\n      <td>Pinot Gris</td>\n      <td>90</td>\n      <td>32.0</td>\n      <td>Domaine Marcel Deiss 2012 Pinot Gris (Alsace)</td>\n    </tr>\n    <tr>\n      <th>129970</th>\n      <td>France</td>\n      <td>Gewürztraminer</td>\n      <td>90</td>\n      <td>21.0</td>\n      <td>Domaine Schoffit 2012 Lieu-dit Harth Cuvée Car...</td>\n    </tr>\n  </tbody>\n</table>\n<p>129971 rows × 5 columns</p>\n</div>"
     },
     "metadata": {},
     "execution_count": 56
    }
   ],
   "source": [
    "clean_wine['country'].replace({'US':'USA'}, inplace=True)\n",
    "clean_wine"
   ]
  },
  {
   "cell_type": "code",
   "execution_count": 43,
   "metadata": {},
   "outputs": [
    {
     "output_type": "execute_result",
     "data": {
      "text/plain": [
       "         country         variety  points  price  \\\n",
       "0          Italy     White Blend      87    NaN   \n",
       "1       Portugal  Portuguese Red      87   15.0   \n",
       "2            USA      Pinot Gris      87   14.0   \n",
       "3            USA        Riesling      87   13.0   \n",
       "4            USA      Pinot Noir      87   65.0   \n",
       "...          ...             ...     ...    ...   \n",
       "129966   Germany        Riesling      90   28.0   \n",
       "129967       USA      Pinot Noir      90   75.0   \n",
       "129968    France  Gewürztraminer      90   30.0   \n",
       "129969    France      Pinot Gris      90   32.0   \n",
       "129970    France  Gewürztraminer      90   21.0   \n",
       "\n",
       "                                                    title  \n",
       "0                       Nicosia 2013 Vulkà Bianco  (Etna)  \n",
       "1           Quinta dos Avidagos 2011 Avidagos Red (Douro)  \n",
       "2           Rainstorm 2013 Pinot Gris (Willamette Valley)  \n",
       "3       St. Julian 2013 Reserve Late Harvest Riesling ...  \n",
       "4       Sweet Cheeks 2012 Vintner's Reserve Wild Child...  \n",
       "...                                                   ...  \n",
       "129966  Dr. H. Thanisch (Erben Müller-Burggraef) 2013 ...  \n",
       "129967                  Citation 2004 Pinot Noir (Oregon)  \n",
       "129968  Domaine Gresser 2013 Kritt Gewurztraminer (Als...  \n",
       "129969      Domaine Marcel Deiss 2012 Pinot Gris (Alsace)  \n",
       "129970  Domaine Schoffit 2012 Lieu-dit Harth Cuvée Car...  \n",
       "\n",
       "[119887 rows x 5 columns]"
      ],
      "text/html": "<div>\n<style scoped>\n    .dataframe tbody tr th:only-of-type {\n        vertical-align: middle;\n    }\n\n    .dataframe tbody tr th {\n        vertical-align: top;\n    }\n\n    .dataframe thead th {\n        text-align: right;\n    }\n</style>\n<table border=\"1\" class=\"dataframe\">\n  <thead>\n    <tr style=\"text-align: right;\">\n      <th></th>\n      <th>country</th>\n      <th>variety</th>\n      <th>points</th>\n      <th>price</th>\n      <th>title</th>\n    </tr>\n  </thead>\n  <tbody>\n    <tr>\n      <th>0</th>\n      <td>Italy</td>\n      <td>White Blend</td>\n      <td>87</td>\n      <td>NaN</td>\n      <td>Nicosia 2013 Vulkà Bianco  (Etna)</td>\n    </tr>\n    <tr>\n      <th>1</th>\n      <td>Portugal</td>\n      <td>Portuguese Red</td>\n      <td>87</td>\n      <td>15.0</td>\n      <td>Quinta dos Avidagos 2011 Avidagos Red (Douro)</td>\n    </tr>\n    <tr>\n      <th>2</th>\n      <td>USA</td>\n      <td>Pinot Gris</td>\n      <td>87</td>\n      <td>14.0</td>\n      <td>Rainstorm 2013 Pinot Gris (Willamette Valley)</td>\n    </tr>\n    <tr>\n      <th>3</th>\n      <td>USA</td>\n      <td>Riesling</td>\n      <td>87</td>\n      <td>13.0</td>\n      <td>St. Julian 2013 Reserve Late Harvest Riesling ...</td>\n    </tr>\n    <tr>\n      <th>4</th>\n      <td>USA</td>\n      <td>Pinot Noir</td>\n      <td>87</td>\n      <td>65.0</td>\n      <td>Sweet Cheeks 2012 Vintner's Reserve Wild Child...</td>\n    </tr>\n    <tr>\n      <th>...</th>\n      <td>...</td>\n      <td>...</td>\n      <td>...</td>\n      <td>...</td>\n      <td>...</td>\n    </tr>\n    <tr>\n      <th>129966</th>\n      <td>Germany</td>\n      <td>Riesling</td>\n      <td>90</td>\n      <td>28.0</td>\n      <td>Dr. H. Thanisch (Erben Müller-Burggraef) 2013 ...</td>\n    </tr>\n    <tr>\n      <th>129967</th>\n      <td>USA</td>\n      <td>Pinot Noir</td>\n      <td>90</td>\n      <td>75.0</td>\n      <td>Citation 2004 Pinot Noir (Oregon)</td>\n    </tr>\n    <tr>\n      <th>129968</th>\n      <td>France</td>\n      <td>Gewürztraminer</td>\n      <td>90</td>\n      <td>30.0</td>\n      <td>Domaine Gresser 2013 Kritt Gewurztraminer (Als...</td>\n    </tr>\n    <tr>\n      <th>129969</th>\n      <td>France</td>\n      <td>Pinot Gris</td>\n      <td>90</td>\n      <td>32.0</td>\n      <td>Domaine Marcel Deiss 2012 Pinot Gris (Alsace)</td>\n    </tr>\n    <tr>\n      <th>129970</th>\n      <td>France</td>\n      <td>Gewürztraminer</td>\n      <td>90</td>\n      <td>21.0</td>\n      <td>Domaine Schoffit 2012 Lieu-dit Harth Cuvée Car...</td>\n    </tr>\n  </tbody>\n</table>\n<p>119887 rows × 5 columns</p>\n</div>"
     },
     "metadata": {},
     "execution_count": 43
    }
   ],
   "source": [
    "clean_wine.drop_duplicates()"
   ]
  },
  {
   "cell_type": "code",
   "execution_count": 82,
   "metadata": {},
   "outputs": [
    {
     "output_type": "execute_result",
     "data": {
      "text/plain": [
       "         country             variety  points  price  \\\n",
       "0       Portugal      Portuguese Red      87   15.0   \n",
       "1            USA          Pinot Gris      87   14.0   \n",
       "2            USA            Riesling      87   13.0   \n",
       "3            USA          Pinot Noir      87   65.0   \n",
       "4          Spain  Tempranillo-Merlot      87   15.0   \n",
       "...          ...                 ...     ...    ...   \n",
       "111434   Germany            Riesling      90   28.0   \n",
       "111435       USA          Pinot Noir      90   75.0   \n",
       "111436    France      Gewürztraminer      90   30.0   \n",
       "111437    France          Pinot Gris      90   32.0   \n",
       "111438    France      Gewürztraminer      90   21.0   \n",
       "\n",
       "                                                    title  \n",
       "0           Quinta dos Avidagos 2011 Avidagos Red (Douro)  \n",
       "1           Rainstorm 2013 Pinot Gris (Willamette Valley)  \n",
       "2       St. Julian 2013 Reserve Late Harvest Riesling ...  \n",
       "3       Sweet Cheeks 2012 Vintner's Reserve Wild Child...  \n",
       "4       Tandem 2011 Ars In Vitro Tempranillo-Merlot (N...  \n",
       "...                                                   ...  \n",
       "111434  Dr. H. Thanisch (Erben Müller-Burggraef) 2013 ...  \n",
       "111435                  Citation 2004 Pinot Noir (Oregon)  \n",
       "111436  Domaine Gresser 2013 Kritt Gewurztraminer (Als...  \n",
       "111437      Domaine Marcel Deiss 2012 Pinot Gris (Alsace)  \n",
       "111438  Domaine Schoffit 2012 Lieu-dit Harth Cuvée Car...  \n",
       "\n",
       "[111439 rows x 5 columns]"
      ],
      "text/html": "<div>\n<style scoped>\n    .dataframe tbody tr th:only-of-type {\n        vertical-align: middle;\n    }\n\n    .dataframe tbody tr th {\n        vertical-align: top;\n    }\n\n    .dataframe thead th {\n        text-align: right;\n    }\n</style>\n<table border=\"1\" class=\"dataframe\">\n  <thead>\n    <tr style=\"text-align: right;\">\n      <th></th>\n      <th>country</th>\n      <th>variety</th>\n      <th>points</th>\n      <th>price</th>\n      <th>title</th>\n    </tr>\n  </thead>\n  <tbody>\n    <tr>\n      <th>0</th>\n      <td>Portugal</td>\n      <td>Portuguese Red</td>\n      <td>87</td>\n      <td>15.0</td>\n      <td>Quinta dos Avidagos 2011 Avidagos Red (Douro)</td>\n    </tr>\n    <tr>\n      <th>1</th>\n      <td>USA</td>\n      <td>Pinot Gris</td>\n      <td>87</td>\n      <td>14.0</td>\n      <td>Rainstorm 2013 Pinot Gris (Willamette Valley)</td>\n    </tr>\n    <tr>\n      <th>2</th>\n      <td>USA</td>\n      <td>Riesling</td>\n      <td>87</td>\n      <td>13.0</td>\n      <td>St. Julian 2013 Reserve Late Harvest Riesling ...</td>\n    </tr>\n    <tr>\n      <th>3</th>\n      <td>USA</td>\n      <td>Pinot Noir</td>\n      <td>87</td>\n      <td>65.0</td>\n      <td>Sweet Cheeks 2012 Vintner's Reserve Wild Child...</td>\n    </tr>\n    <tr>\n      <th>4</th>\n      <td>Spain</td>\n      <td>Tempranillo-Merlot</td>\n      <td>87</td>\n      <td>15.0</td>\n      <td>Tandem 2011 Ars In Vitro Tempranillo-Merlot (N...</td>\n    </tr>\n    <tr>\n      <th>...</th>\n      <td>...</td>\n      <td>...</td>\n      <td>...</td>\n      <td>...</td>\n      <td>...</td>\n    </tr>\n    <tr>\n      <th>111434</th>\n      <td>Germany</td>\n      <td>Riesling</td>\n      <td>90</td>\n      <td>28.0</td>\n      <td>Dr. H. Thanisch (Erben Müller-Burggraef) 2013 ...</td>\n    </tr>\n    <tr>\n      <th>111435</th>\n      <td>USA</td>\n      <td>Pinot Noir</td>\n      <td>90</td>\n      <td>75.0</td>\n      <td>Citation 2004 Pinot Noir (Oregon)</td>\n    </tr>\n    <tr>\n      <th>111436</th>\n      <td>France</td>\n      <td>Gewürztraminer</td>\n      <td>90</td>\n      <td>30.0</td>\n      <td>Domaine Gresser 2013 Kritt Gewurztraminer (Als...</td>\n    </tr>\n    <tr>\n      <th>111437</th>\n      <td>France</td>\n      <td>Pinot Gris</td>\n      <td>90</td>\n      <td>32.0</td>\n      <td>Domaine Marcel Deiss 2012 Pinot Gris (Alsace)</td>\n    </tr>\n    <tr>\n      <th>111438</th>\n      <td>France</td>\n      <td>Gewürztraminer</td>\n      <td>90</td>\n      <td>21.0</td>\n      <td>Domaine Schoffit 2012 Lieu-dit Harth Cuvée Car...</td>\n    </tr>\n  </tbody>\n</table>\n<p>111439 rows × 5 columns</p>\n</div>"
     },
     "metadata": {},
     "execution_count": 82
    }
   ],
   "source": [
    "clean_wine = clean_wine.drop_duplicates().dropna(axis=0).reset_index()\n",
    "clean_wine"
   ]
  },
  {
   "cell_type": "code",
   "execution_count": 83,
   "metadata": {},
   "outputs": [
    {
     "output_type": "execute_result",
     "data": {
      "text/plain": [
       "Empty DataFrame\n",
       "Columns: [country, variety, points, price, title]\n",
       "Index: []"
      ],
      "text/html": "<div>\n<style scoped>\n    .dataframe tbody tr th:only-of-type {\n        vertical-align: middle;\n    }\n\n    .dataframe tbody tr th {\n        vertical-align: top;\n    }\n\n    .dataframe thead th {\n        text-align: right;\n    }\n</style>\n<table border=\"1\" class=\"dataframe\">\n  <thead>\n    <tr style=\"text-align: right;\">\n      <th></th>\n      <th>country</th>\n      <th>variety</th>\n      <th>points</th>\n      <th>price</th>\n      <th>title</th>\n    </tr>\n  </thead>\n  <tbody>\n  </tbody>\n</table>\n</div>"
     },
     "metadata": {},
     "execution_count": 83
    }
   ],
   "source": [
    "clean_wine[clean_wine['country']=='NaN']"
   ]
  },
  {
   "cell_type": "code",
   "execution_count": 20,
   "metadata": {},
   "outputs": [
    {
     "output_type": "execute_result",
     "data": {
      "text/plain": [
       "       country  beer_servings  spirit_servings  wine_servings  \\\n",
       "0  Afghanistan              0                0              0   \n",
       "1      Albania             89              132             54   \n",
       "2      Algeria             25                0             14   \n",
       "3      Andorra            245              138            312   \n",
       "4       Angola            217               57             45   \n",
       "\n",
       "   total_litres_of_pure_alcohol  \n",
       "0                           0.0  \n",
       "1                           4.9  \n",
       "2                           0.7  \n",
       "3                          12.4  \n",
       "4                           5.9  "
      ],
      "text/html": "<div>\n<style scoped>\n    .dataframe tbody tr th:only-of-type {\n        vertical-align: middle;\n    }\n\n    .dataframe tbody tr th {\n        vertical-align: top;\n    }\n\n    .dataframe thead th {\n        text-align: right;\n    }\n</style>\n<table border=\"1\" class=\"dataframe\">\n  <thead>\n    <tr style=\"text-align: right;\">\n      <th></th>\n      <th>country</th>\n      <th>beer_servings</th>\n      <th>spirit_servings</th>\n      <th>wine_servings</th>\n      <th>total_litres_of_pure_alcohol</th>\n    </tr>\n  </thead>\n  <tbody>\n    <tr>\n      <th>0</th>\n      <td>Afghanistan</td>\n      <td>0</td>\n      <td>0</td>\n      <td>0</td>\n      <td>0.0</td>\n    </tr>\n    <tr>\n      <th>1</th>\n      <td>Albania</td>\n      <td>89</td>\n      <td>132</td>\n      <td>54</td>\n      <td>4.9</td>\n    </tr>\n    <tr>\n      <th>2</th>\n      <td>Algeria</td>\n      <td>25</td>\n      <td>0</td>\n      <td>14</td>\n      <td>0.7</td>\n    </tr>\n    <tr>\n      <th>3</th>\n      <td>Andorra</td>\n      <td>245</td>\n      <td>138</td>\n      <td>312</td>\n      <td>12.4</td>\n    </tr>\n    <tr>\n      <th>4</th>\n      <td>Angola</td>\n      <td>217</td>\n      <td>57</td>\n      <td>45</td>\n      <td>5.9</td>\n    </tr>\n  </tbody>\n</table>\n</div>"
     },
     "metadata": {},
     "execution_count": 20
    }
   ],
   "source": [
    "#pull in csv file\n",
    "csv_file=r\"Resources\\alcohol_consumption.csv\"\n",
    "ac_data_df=pd.read_csv(csv_file)\n",
    "ac_data_df.head()"
   ]
  },
  {
   "cell_type": "code",
   "execution_count": 21,
   "metadata": {},
   "outputs": [
    {
     "output_type": "execute_result",
     "data": {
      "text/plain": [
       "       country  wine_servings\n",
       "0  Afghanistan              0\n",
       "1      Albania             54\n",
       "2      Algeria             14\n",
       "3      Andorra            312\n",
       "4       Angola             45"
      ],
      "text/html": "<div>\n<style scoped>\n    .dataframe tbody tr th:only-of-type {\n        vertical-align: middle;\n    }\n\n    .dataframe tbody tr th {\n        vertical-align: top;\n    }\n\n    .dataframe thead th {\n        text-align: right;\n    }\n</style>\n<table border=\"1\" class=\"dataframe\">\n  <thead>\n    <tr style=\"text-align: right;\">\n      <th></th>\n      <th>country</th>\n      <th>wine_servings</th>\n    </tr>\n  </thead>\n  <tbody>\n    <tr>\n      <th>0</th>\n      <td>Afghanistan</td>\n      <td>0</td>\n    </tr>\n    <tr>\n      <th>1</th>\n      <td>Albania</td>\n      <td>54</td>\n    </tr>\n    <tr>\n      <th>2</th>\n      <td>Algeria</td>\n      <td>14</td>\n    </tr>\n    <tr>\n      <th>3</th>\n      <td>Andorra</td>\n      <td>312</td>\n    </tr>\n    <tr>\n      <th>4</th>\n      <td>Angola</td>\n      <td>45</td>\n    </tr>\n  </tbody>\n</table>\n</div>"
     },
     "metadata": {},
     "execution_count": 21
    }
   ],
   "source": [
    "#only pull in columns we need\n",
    "updated_ac=ac_data_df[['country','wine_servings']].copy()\n",
    "updated_ac.head()"
   ]
  },
  {
   "cell_type": "code",
   "execution_count": 29,
   "metadata": {},
   "outputs": [],
   "source": [
    "# Create connection\n",
    "connection_string = f\"postgres:{ps}@localhost:5432/wine_db\"\n",
    "engine = create_engine(f'postgresql://{connection_string}')"
   ]
  },
  {
   "cell_type": "code",
   "execution_count": 30,
   "metadata": {},
   "outputs": [
    {
     "output_type": "execute_result",
     "data": {
      "text/plain": [
       "['alcohol_consumption', 'wine_reviews']"
      ]
     },
     "metadata": {},
     "execution_count": 30
    }
   ],
   "source": [
    "engine.table_names()"
   ]
  },
  {
   "cell_type": "code",
   "execution_count": 86,
   "metadata": {},
   "outputs": [
    {
     "output_type": "error",
     "ename": "IntegrityError",
     "evalue": "(psycopg2.errors.ForeignKeyViolation) insert or update on table \"wine_reviews\" violates foreign key constraint \"fk_wine_reviews_country\"\nDETAIL:  Key (country)=(Portugal) is not present in table \"alcohol_consumption\".\n\n[SQL: INSERT INTO wine_reviews (country, variety, points, price, title) VALUES (%(country)s, %(variety)s, %(points)s, %(price)s, %(title)s)]\n[parameters: ({'country': 'Portugal', 'variety': 'Portuguese Red', 'points': 87, 'price': 15.0, 'title': 'Quinta dos Avidagos 2011 Avidagos Red (Douro)'}, {'country': 'USA', 'variety': 'Pinot Gris', 'points': 87, 'price': 14.0, 'title': 'Rainstorm 2013 Pinot Gris (Willamette Valley)'}, {'country': 'USA', 'variety': 'Riesling', 'points': 87, 'price': 13.0, 'title': 'St. Julian 2013 Reserve Late Harvest Riesling (Lake Michigan Shore)'}, {'country': 'USA', 'variety': 'Pinot Noir', 'points': 87, 'price': 65.0, 'title': \"Sweet Cheeks 2012 Vintner's Reserve Wild Child Block Pinot Noir (Willamette Valley)\"}, {'country': 'Spain', 'variety': 'Tempranillo-Merlot', 'points': 87, 'price': 15.0, 'title': 'Tandem 2011 Ars In Vitro Tempranillo-Merlot (Navarra)'}, {'country': 'Italy', 'variety': 'Frappato', 'points': 87, 'price': 16.0, 'title': 'Terre di Giurfo 2013 Belsito Frappato (Vittoria)'}, {'country': 'France', 'variety': 'Gewürztraminer', 'points': 87, 'price': 24.0, 'title': 'Trimbach 2012 Gewurztraminer (Alsace)'}, {'country': 'Germany', 'variety': 'Gewürztraminer', 'points': 87, 'price': 12.0, 'title': 'Heinz Eifel 2013 Shine Gewürztraminer (Rheinhessen)'}  ... displaying 10 of 111439 total bound parameter sets ...  {'country': 'France', 'variety': 'Pinot Gris', 'points': 90, 'price': 32.0, 'title': 'Domaine Marcel Deiss 2012 Pinot Gris (Alsace)'}, {'country': 'France', 'variety': 'Gewürztraminer', 'points': 90, 'price': 21.0, 'title': 'Domaine Schoffit 2012 Lieu-dit Harth Cuvée Caroline Gewurztraminer (Alsace)'})]\n(Background on this error at: http://sqlalche.me/e/13/gkpj)",
     "traceback": [
      "\u001b[1;31m---------------------------------------------------------------------------\u001b[0m",
      "\u001b[1;31mForeignKeyViolation\u001b[0m                       Traceback (most recent call last)",
      "\u001b[1;32mD:\\ProgramData\\Anaconda3\\envs\\PythonData\\lib\\site-packages\\sqlalchemy\\engine\\base.py\u001b[0m in \u001b[0;36m_execute_context\u001b[1;34m(self, dialect, constructor, statement, parameters, *args)\u001b[0m\n\u001b[0;32m   1256\u001b[0m                     self.dialect.do_executemany(\n\u001b[1;32m-> 1257\u001b[1;33m                         \u001b[0mcursor\u001b[0m\u001b[1;33m,\u001b[0m \u001b[0mstatement\u001b[0m\u001b[1;33m,\u001b[0m \u001b[0mparameters\u001b[0m\u001b[1;33m,\u001b[0m \u001b[0mcontext\u001b[0m\u001b[1;33m\u001b[0m\u001b[1;33m\u001b[0m\u001b[0m\n\u001b[0m\u001b[0;32m   1258\u001b[0m                     )\n",
      "\u001b[1;32mD:\\ProgramData\\Anaconda3\\envs\\PythonData\\lib\\site-packages\\sqlalchemy\\dialects\\postgresql\\psycopg2.py\u001b[0m in \u001b[0;36mdo_executemany\u001b[1;34m(self, cursor, statement, parameters, context)\u001b[0m\n\u001b[0;32m    897\u001b[0m         \u001b[1;32mif\u001b[0m \u001b[0mself\u001b[0m\u001b[1;33m.\u001b[0m\u001b[0mexecutemany_mode\u001b[0m \u001b[1;32mis\u001b[0m \u001b[0mEXECUTEMANY_DEFAULT\u001b[0m\u001b[1;33m:\u001b[0m\u001b[1;33m\u001b[0m\u001b[1;33m\u001b[0m\u001b[0m\n\u001b[1;32m--> 898\u001b[1;33m             \u001b[0mcursor\u001b[0m\u001b[1;33m.\u001b[0m\u001b[0mexecutemany\u001b[0m\u001b[1;33m(\u001b[0m\u001b[0mstatement\u001b[0m\u001b[1;33m,\u001b[0m \u001b[0mparameters\u001b[0m\u001b[1;33m)\u001b[0m\u001b[1;33m\u001b[0m\u001b[1;33m\u001b[0m\u001b[0m\n\u001b[0m\u001b[0;32m    899\u001b[0m             \u001b[1;32mreturn\u001b[0m\u001b[1;33m\u001b[0m\u001b[1;33m\u001b[0m\u001b[0m\n",
      "\u001b[1;31mForeignKeyViolation\u001b[0m: insert or update on table \"wine_reviews\" violates foreign key constraint \"fk_wine_reviews_country\"\nDETAIL:  Key (country)=(Portugal) is not present in table \"alcohol_consumption\".\n",
      "\nThe above exception was the direct cause of the following exception:\n",
      "\u001b[1;31mIntegrityError\u001b[0m                            Traceback (most recent call last)",
      "\u001b[1;32m<ipython-input-86-4b8de96d9f41>\u001b[0m in \u001b[0;36m<module>\u001b[1;34m\u001b[0m\n\u001b[1;32m----> 1\u001b[1;33m \u001b[0mclean_wine\u001b[0m\u001b[1;33m.\u001b[0m\u001b[0mto_sql\u001b[0m\u001b[1;33m(\u001b[0m\u001b[0mname\u001b[0m\u001b[1;33m=\u001b[0m\u001b[1;34m'wine_reviews'\u001b[0m\u001b[1;33m,\u001b[0m \u001b[0mcon\u001b[0m\u001b[1;33m=\u001b[0m\u001b[0mengine\u001b[0m\u001b[1;33m,\u001b[0m \u001b[0mif_exists\u001b[0m\u001b[1;33m=\u001b[0m\u001b[1;34m'append'\u001b[0m\u001b[1;33m,\u001b[0m \u001b[0mindex\u001b[0m\u001b[1;33m=\u001b[0m\u001b[1;32mFalse\u001b[0m\u001b[1;33m)\u001b[0m\u001b[1;33m\u001b[0m\u001b[1;33m\u001b[0m\u001b[0m\n\u001b[0m",
      "\u001b[1;32mD:\\ProgramData\\Anaconda3\\envs\\PythonData\\lib\\site-packages\\pandas\\core\\generic.py\u001b[0m in \u001b[0;36mto_sql\u001b[1;34m(self, name, con, schema, if_exists, index, index_label, chunksize, dtype, method)\u001b[0m\n\u001b[0;32m   2613\u001b[0m             \u001b[0mchunksize\u001b[0m\u001b[1;33m=\u001b[0m\u001b[0mchunksize\u001b[0m\u001b[1;33m,\u001b[0m\u001b[1;33m\u001b[0m\u001b[1;33m\u001b[0m\u001b[0m\n\u001b[0;32m   2614\u001b[0m             \u001b[0mdtype\u001b[0m\u001b[1;33m=\u001b[0m\u001b[0mdtype\u001b[0m\u001b[1;33m,\u001b[0m\u001b[1;33m\u001b[0m\u001b[1;33m\u001b[0m\u001b[0m\n\u001b[1;32m-> 2615\u001b[1;33m             \u001b[0mmethod\u001b[0m\u001b[1;33m=\u001b[0m\u001b[0mmethod\u001b[0m\u001b[1;33m,\u001b[0m\u001b[1;33m\u001b[0m\u001b[1;33m\u001b[0m\u001b[0m\n\u001b[0m\u001b[0;32m   2616\u001b[0m         )\n\u001b[0;32m   2617\u001b[0m \u001b[1;33m\u001b[0m\u001b[0m\n",
      "\u001b[1;32mD:\\ProgramData\\Anaconda3\\envs\\PythonData\\lib\\site-packages\\pandas\\io\\sql.py\u001b[0m in \u001b[0;36mto_sql\u001b[1;34m(frame, name, con, schema, if_exists, index, index_label, chunksize, dtype, method)\u001b[0m\n\u001b[0;32m    596\u001b[0m         \u001b[0mchunksize\u001b[0m\u001b[1;33m=\u001b[0m\u001b[0mchunksize\u001b[0m\u001b[1;33m,\u001b[0m\u001b[1;33m\u001b[0m\u001b[1;33m\u001b[0m\u001b[0m\n\u001b[0;32m    597\u001b[0m         \u001b[0mdtype\u001b[0m\u001b[1;33m=\u001b[0m\u001b[0mdtype\u001b[0m\u001b[1;33m,\u001b[0m\u001b[1;33m\u001b[0m\u001b[1;33m\u001b[0m\u001b[0m\n\u001b[1;32m--> 598\u001b[1;33m         \u001b[0mmethod\u001b[0m\u001b[1;33m=\u001b[0m\u001b[0mmethod\u001b[0m\u001b[1;33m,\u001b[0m\u001b[1;33m\u001b[0m\u001b[1;33m\u001b[0m\u001b[0m\n\u001b[0m\u001b[0;32m    599\u001b[0m     )\n\u001b[0;32m    600\u001b[0m \u001b[1;33m\u001b[0m\u001b[0m\n",
      "\u001b[1;32mD:\\ProgramData\\Anaconda3\\envs\\PythonData\\lib\\site-packages\\pandas\\io\\sql.py\u001b[0m in \u001b[0;36mto_sql\u001b[1;34m(self, frame, name, if_exists, index, index_label, schema, chunksize, dtype, method)\u001b[0m\n\u001b[0;32m   1404\u001b[0m                 \u001b[1;32mraise\u001b[0m \u001b[0mValueError\u001b[0m\u001b[1;33m(\u001b[0m\u001b[1;34m\"inf cannot be used with MySQL\"\u001b[0m\u001b[1;33m)\u001b[0m \u001b[1;32mfrom\u001b[0m \u001b[0merr\u001b[0m\u001b[1;33m\u001b[0m\u001b[1;33m\u001b[0m\u001b[0m\n\u001b[0;32m   1405\u001b[0m             \u001b[1;32melse\u001b[0m\u001b[1;33m:\u001b[0m\u001b[1;33m\u001b[0m\u001b[1;33m\u001b[0m\u001b[0m\n\u001b[1;32m-> 1406\u001b[1;33m                 \u001b[1;32mraise\u001b[0m \u001b[0merr\u001b[0m\u001b[1;33m\u001b[0m\u001b[1;33m\u001b[0m\u001b[0m\n\u001b[0m\u001b[0;32m   1407\u001b[0m \u001b[1;33m\u001b[0m\u001b[0m\n\u001b[0;32m   1408\u001b[0m         \u001b[1;32mif\u001b[0m \u001b[1;32mnot\u001b[0m \u001b[0mname\u001b[0m\u001b[1;33m.\u001b[0m\u001b[0misdigit\u001b[0m\u001b[1;33m(\u001b[0m\u001b[1;33m)\u001b[0m \u001b[1;32mand\u001b[0m \u001b[1;32mnot\u001b[0m \u001b[0mname\u001b[0m\u001b[1;33m.\u001b[0m\u001b[0mislower\u001b[0m\u001b[1;33m(\u001b[0m\u001b[1;33m)\u001b[0m\u001b[1;33m:\u001b[0m\u001b[1;33m\u001b[0m\u001b[1;33m\u001b[0m\u001b[0m\n",
      "\u001b[1;32mD:\\ProgramData\\Anaconda3\\envs\\PythonData\\lib\\site-packages\\pandas\\io\\sql.py\u001b[0m in \u001b[0;36mto_sql\u001b[1;34m(self, frame, name, if_exists, index, index_label, schema, chunksize, dtype, method)\u001b[0m\n\u001b[0;32m   1396\u001b[0m \u001b[1;33m\u001b[0m\u001b[0m\n\u001b[0;32m   1397\u001b[0m         \u001b[1;32mtry\u001b[0m\u001b[1;33m:\u001b[0m\u001b[1;33m\u001b[0m\u001b[1;33m\u001b[0m\u001b[0m\n\u001b[1;32m-> 1398\u001b[1;33m             \u001b[0mtable\u001b[0m\u001b[1;33m.\u001b[0m\u001b[0minsert\u001b[0m\u001b[1;33m(\u001b[0m\u001b[0mchunksize\u001b[0m\u001b[1;33m,\u001b[0m \u001b[0mmethod\u001b[0m\u001b[1;33m=\u001b[0m\u001b[0mmethod\u001b[0m\u001b[1;33m)\u001b[0m\u001b[1;33m\u001b[0m\u001b[1;33m\u001b[0m\u001b[0m\n\u001b[0m\u001b[0;32m   1399\u001b[0m         \u001b[1;32mexcept\u001b[0m \u001b[0mexc\u001b[0m\u001b[1;33m.\u001b[0m\u001b[0mSQLAlchemyError\u001b[0m \u001b[1;32mas\u001b[0m \u001b[0merr\u001b[0m\u001b[1;33m:\u001b[0m\u001b[1;33m\u001b[0m\u001b[1;33m\u001b[0m\u001b[0m\n\u001b[0;32m   1400\u001b[0m             \u001b[1;31m# GH34431\u001b[0m\u001b[1;33m\u001b[0m\u001b[1;33m\u001b[0m\u001b[1;33m\u001b[0m\u001b[0m\n",
      "\u001b[1;32mD:\\ProgramData\\Anaconda3\\envs\\PythonData\\lib\\site-packages\\pandas\\io\\sql.py\u001b[0m in \u001b[0;36minsert\u001b[1;34m(self, chunksize, method)\u001b[0m\n\u001b[0;32m    828\u001b[0m \u001b[1;33m\u001b[0m\u001b[0m\n\u001b[0;32m    829\u001b[0m                 \u001b[0mchunk_iter\u001b[0m \u001b[1;33m=\u001b[0m \u001b[0mzip\u001b[0m\u001b[1;33m(\u001b[0m\u001b[1;33m*\u001b[0m\u001b[1;33m[\u001b[0m\u001b[0marr\u001b[0m\u001b[1;33m[\u001b[0m\u001b[0mstart_i\u001b[0m\u001b[1;33m:\u001b[0m\u001b[0mend_i\u001b[0m\u001b[1;33m]\u001b[0m \u001b[1;32mfor\u001b[0m \u001b[0marr\u001b[0m \u001b[1;32min\u001b[0m \u001b[0mdata_list\u001b[0m\u001b[1;33m]\u001b[0m\u001b[1;33m)\u001b[0m\u001b[1;33m\u001b[0m\u001b[1;33m\u001b[0m\u001b[0m\n\u001b[1;32m--> 830\u001b[1;33m                 \u001b[0mexec_insert\u001b[0m\u001b[1;33m(\u001b[0m\u001b[0mconn\u001b[0m\u001b[1;33m,\u001b[0m \u001b[0mkeys\u001b[0m\u001b[1;33m,\u001b[0m \u001b[0mchunk_iter\u001b[0m\u001b[1;33m)\u001b[0m\u001b[1;33m\u001b[0m\u001b[1;33m\u001b[0m\u001b[0m\n\u001b[0m\u001b[0;32m    831\u001b[0m \u001b[1;33m\u001b[0m\u001b[0m\n\u001b[0;32m    832\u001b[0m     def _query_iterator(\n",
      "\u001b[1;32mD:\\ProgramData\\Anaconda3\\envs\\PythonData\\lib\\site-packages\\pandas\\io\\sql.py\u001b[0m in \u001b[0;36m_execute_insert\u001b[1;34m(self, conn, keys, data_iter)\u001b[0m\n\u001b[0;32m    745\u001b[0m         \"\"\"\n\u001b[0;32m    746\u001b[0m         \u001b[0mdata\u001b[0m \u001b[1;33m=\u001b[0m \u001b[1;33m[\u001b[0m\u001b[0mdict\u001b[0m\u001b[1;33m(\u001b[0m\u001b[0mzip\u001b[0m\u001b[1;33m(\u001b[0m\u001b[0mkeys\u001b[0m\u001b[1;33m,\u001b[0m \u001b[0mrow\u001b[0m\u001b[1;33m)\u001b[0m\u001b[1;33m)\u001b[0m \u001b[1;32mfor\u001b[0m \u001b[0mrow\u001b[0m \u001b[1;32min\u001b[0m \u001b[0mdata_iter\u001b[0m\u001b[1;33m]\u001b[0m\u001b[1;33m\u001b[0m\u001b[1;33m\u001b[0m\u001b[0m\n\u001b[1;32m--> 747\u001b[1;33m         \u001b[0mconn\u001b[0m\u001b[1;33m.\u001b[0m\u001b[0mexecute\u001b[0m\u001b[1;33m(\u001b[0m\u001b[0mself\u001b[0m\u001b[1;33m.\u001b[0m\u001b[0mtable\u001b[0m\u001b[1;33m.\u001b[0m\u001b[0minsert\u001b[0m\u001b[1;33m(\u001b[0m\u001b[1;33m)\u001b[0m\u001b[1;33m,\u001b[0m \u001b[0mdata\u001b[0m\u001b[1;33m)\u001b[0m\u001b[1;33m\u001b[0m\u001b[1;33m\u001b[0m\u001b[0m\n\u001b[0m\u001b[0;32m    748\u001b[0m \u001b[1;33m\u001b[0m\u001b[0m\n\u001b[0;32m    749\u001b[0m     \u001b[1;32mdef\u001b[0m \u001b[0m_execute_insert_multi\u001b[0m\u001b[1;33m(\u001b[0m\u001b[0mself\u001b[0m\u001b[1;33m,\u001b[0m \u001b[0mconn\u001b[0m\u001b[1;33m,\u001b[0m \u001b[0mkeys\u001b[0m\u001b[1;33m,\u001b[0m \u001b[0mdata_iter\u001b[0m\u001b[1;33m)\u001b[0m\u001b[1;33m:\u001b[0m\u001b[1;33m\u001b[0m\u001b[1;33m\u001b[0m\u001b[0m\n",
      "\u001b[1;32mD:\\ProgramData\\Anaconda3\\envs\\PythonData\\lib\\site-packages\\sqlalchemy\\engine\\base.py\u001b[0m in \u001b[0;36mexecute\u001b[1;34m(self, object_, *multiparams, **params)\u001b[0m\n\u001b[0;32m   1009\u001b[0m             )\n\u001b[0;32m   1010\u001b[0m         \u001b[1;32melse\u001b[0m\u001b[1;33m:\u001b[0m\u001b[1;33m\u001b[0m\u001b[1;33m\u001b[0m\u001b[0m\n\u001b[1;32m-> 1011\u001b[1;33m             \u001b[1;32mreturn\u001b[0m \u001b[0mmeth\u001b[0m\u001b[1;33m(\u001b[0m\u001b[0mself\u001b[0m\u001b[1;33m,\u001b[0m \u001b[0mmultiparams\u001b[0m\u001b[1;33m,\u001b[0m \u001b[0mparams\u001b[0m\u001b[1;33m)\u001b[0m\u001b[1;33m\u001b[0m\u001b[1;33m\u001b[0m\u001b[0m\n\u001b[0m\u001b[0;32m   1012\u001b[0m \u001b[1;33m\u001b[0m\u001b[0m\n\u001b[0;32m   1013\u001b[0m     \u001b[1;32mdef\u001b[0m \u001b[0m_execute_function\u001b[0m\u001b[1;33m(\u001b[0m\u001b[0mself\u001b[0m\u001b[1;33m,\u001b[0m \u001b[0mfunc\u001b[0m\u001b[1;33m,\u001b[0m \u001b[0mmultiparams\u001b[0m\u001b[1;33m,\u001b[0m \u001b[0mparams\u001b[0m\u001b[1;33m)\u001b[0m\u001b[1;33m:\u001b[0m\u001b[1;33m\u001b[0m\u001b[1;33m\u001b[0m\u001b[0m\n",
      "\u001b[1;32mD:\\ProgramData\\Anaconda3\\envs\\PythonData\\lib\\site-packages\\sqlalchemy\\sql\\elements.py\u001b[0m in \u001b[0;36m_execute_on_connection\u001b[1;34m(self, connection, multiparams, params)\u001b[0m\n\u001b[0;32m    296\u001b[0m     \u001b[1;32mdef\u001b[0m \u001b[0m_execute_on_connection\u001b[0m\u001b[1;33m(\u001b[0m\u001b[0mself\u001b[0m\u001b[1;33m,\u001b[0m \u001b[0mconnection\u001b[0m\u001b[1;33m,\u001b[0m \u001b[0mmultiparams\u001b[0m\u001b[1;33m,\u001b[0m \u001b[0mparams\u001b[0m\u001b[1;33m)\u001b[0m\u001b[1;33m:\u001b[0m\u001b[1;33m\u001b[0m\u001b[1;33m\u001b[0m\u001b[0m\n\u001b[0;32m    297\u001b[0m         \u001b[1;32mif\u001b[0m \u001b[0mself\u001b[0m\u001b[1;33m.\u001b[0m\u001b[0msupports_execution\u001b[0m\u001b[1;33m:\u001b[0m\u001b[1;33m\u001b[0m\u001b[1;33m\u001b[0m\u001b[0m\n\u001b[1;32m--> 298\u001b[1;33m             \u001b[1;32mreturn\u001b[0m \u001b[0mconnection\u001b[0m\u001b[1;33m.\u001b[0m\u001b[0m_execute_clauseelement\u001b[0m\u001b[1;33m(\u001b[0m\u001b[0mself\u001b[0m\u001b[1;33m,\u001b[0m \u001b[0mmultiparams\u001b[0m\u001b[1;33m,\u001b[0m \u001b[0mparams\u001b[0m\u001b[1;33m)\u001b[0m\u001b[1;33m\u001b[0m\u001b[1;33m\u001b[0m\u001b[0m\n\u001b[0m\u001b[0;32m    299\u001b[0m         \u001b[1;32melse\u001b[0m\u001b[1;33m:\u001b[0m\u001b[1;33m\u001b[0m\u001b[1;33m\u001b[0m\u001b[0m\n\u001b[0;32m    300\u001b[0m             \u001b[1;32mraise\u001b[0m \u001b[0mexc\u001b[0m\u001b[1;33m.\u001b[0m\u001b[0mObjectNotExecutableError\u001b[0m\u001b[1;33m(\u001b[0m\u001b[0mself\u001b[0m\u001b[1;33m)\u001b[0m\u001b[1;33m\u001b[0m\u001b[1;33m\u001b[0m\u001b[0m\n",
      "\u001b[1;32mD:\\ProgramData\\Anaconda3\\envs\\PythonData\\lib\\site-packages\\sqlalchemy\\engine\\base.py\u001b[0m in \u001b[0;36m_execute_clauseelement\u001b[1;34m(self, elem, multiparams, params)\u001b[0m\n\u001b[0;32m   1128\u001b[0m             \u001b[0mdistilled_params\u001b[0m\u001b[1;33m,\u001b[0m\u001b[1;33m\u001b[0m\u001b[1;33m\u001b[0m\u001b[0m\n\u001b[0;32m   1129\u001b[0m             \u001b[0mcompiled_sql\u001b[0m\u001b[1;33m,\u001b[0m\u001b[1;33m\u001b[0m\u001b[1;33m\u001b[0m\u001b[0m\n\u001b[1;32m-> 1130\u001b[1;33m             \u001b[0mdistilled_params\u001b[0m\u001b[1;33m,\u001b[0m\u001b[1;33m\u001b[0m\u001b[1;33m\u001b[0m\u001b[0m\n\u001b[0m\u001b[0;32m   1131\u001b[0m         )\n\u001b[0;32m   1132\u001b[0m         \u001b[1;32mif\u001b[0m \u001b[0mself\u001b[0m\u001b[1;33m.\u001b[0m\u001b[0m_has_events\u001b[0m \u001b[1;32mor\u001b[0m \u001b[0mself\u001b[0m\u001b[1;33m.\u001b[0m\u001b[0mengine\u001b[0m\u001b[1;33m.\u001b[0m\u001b[0m_has_events\u001b[0m\u001b[1;33m:\u001b[0m\u001b[1;33m\u001b[0m\u001b[1;33m\u001b[0m\u001b[0m\n",
      "\u001b[1;32mD:\\ProgramData\\Anaconda3\\envs\\PythonData\\lib\\site-packages\\sqlalchemy\\engine\\base.py\u001b[0m in \u001b[0;36m_execute_context\u001b[1;34m(self, dialect, constructor, statement, parameters, *args)\u001b[0m\n\u001b[0;32m   1315\u001b[0m         \u001b[1;32mexcept\u001b[0m \u001b[0mBaseException\u001b[0m \u001b[1;32mas\u001b[0m \u001b[0me\u001b[0m\u001b[1;33m:\u001b[0m\u001b[1;33m\u001b[0m\u001b[1;33m\u001b[0m\u001b[0m\n\u001b[0;32m   1316\u001b[0m             self._handle_dbapi_exception(\n\u001b[1;32m-> 1317\u001b[1;33m                 \u001b[0me\u001b[0m\u001b[1;33m,\u001b[0m \u001b[0mstatement\u001b[0m\u001b[1;33m,\u001b[0m \u001b[0mparameters\u001b[0m\u001b[1;33m,\u001b[0m \u001b[0mcursor\u001b[0m\u001b[1;33m,\u001b[0m \u001b[0mcontext\u001b[0m\u001b[1;33m\u001b[0m\u001b[1;33m\u001b[0m\u001b[0m\n\u001b[0m\u001b[0;32m   1318\u001b[0m             )\n\u001b[0;32m   1319\u001b[0m \u001b[1;33m\u001b[0m\u001b[0m\n",
      "\u001b[1;32mD:\\ProgramData\\Anaconda3\\envs\\PythonData\\lib\\site-packages\\sqlalchemy\\engine\\base.py\u001b[0m in \u001b[0;36m_handle_dbapi_exception\u001b[1;34m(self, e, statement, parameters, cursor, context)\u001b[0m\n\u001b[0;32m   1509\u001b[0m             \u001b[1;32melif\u001b[0m \u001b[0mshould_wrap\u001b[0m\u001b[1;33m:\u001b[0m\u001b[1;33m\u001b[0m\u001b[1;33m\u001b[0m\u001b[0m\n\u001b[0;32m   1510\u001b[0m                 util.raise_(\n\u001b[1;32m-> 1511\u001b[1;33m                     \u001b[0msqlalchemy_exception\u001b[0m\u001b[1;33m,\u001b[0m \u001b[0mwith_traceback\u001b[0m\u001b[1;33m=\u001b[0m\u001b[0mexc_info\u001b[0m\u001b[1;33m[\u001b[0m\u001b[1;36m2\u001b[0m\u001b[1;33m]\u001b[0m\u001b[1;33m,\u001b[0m \u001b[0mfrom_\u001b[0m\u001b[1;33m=\u001b[0m\u001b[0me\u001b[0m\u001b[1;33m\u001b[0m\u001b[1;33m\u001b[0m\u001b[0m\n\u001b[0m\u001b[0;32m   1512\u001b[0m                 )\n\u001b[0;32m   1513\u001b[0m             \u001b[1;32melse\u001b[0m\u001b[1;33m:\u001b[0m\u001b[1;33m\u001b[0m\u001b[1;33m\u001b[0m\u001b[0m\n",
      "\u001b[1;32mD:\\ProgramData\\Anaconda3\\envs\\PythonData\\lib\\site-packages\\sqlalchemy\\util\\compat.py\u001b[0m in \u001b[0;36mraise_\u001b[1;34m(***failed resolving arguments***)\u001b[0m\n\u001b[0;32m    180\u001b[0m \u001b[1;33m\u001b[0m\u001b[0m\n\u001b[0;32m    181\u001b[0m         \u001b[1;32mtry\u001b[0m\u001b[1;33m:\u001b[0m\u001b[1;33m\u001b[0m\u001b[1;33m\u001b[0m\u001b[0m\n\u001b[1;32m--> 182\u001b[1;33m             \u001b[1;32mraise\u001b[0m \u001b[0mexception\u001b[0m\u001b[1;33m\u001b[0m\u001b[1;33m\u001b[0m\u001b[0m\n\u001b[0m\u001b[0;32m    183\u001b[0m         \u001b[1;32mfinally\u001b[0m\u001b[1;33m:\u001b[0m\u001b[1;33m\u001b[0m\u001b[1;33m\u001b[0m\u001b[0m\n\u001b[0;32m    184\u001b[0m             \u001b[1;31m# credit to\u001b[0m\u001b[1;33m\u001b[0m\u001b[1;33m\u001b[0m\u001b[1;33m\u001b[0m\u001b[0m\n",
      "\u001b[1;32mD:\\ProgramData\\Anaconda3\\envs\\PythonData\\lib\\site-packages\\sqlalchemy\\engine\\base.py\u001b[0m in \u001b[0;36m_execute_context\u001b[1;34m(self, dialect, constructor, statement, parameters, *args)\u001b[0m\n\u001b[0;32m   1255\u001b[0m                 \u001b[1;32mif\u001b[0m \u001b[1;32mnot\u001b[0m \u001b[0mevt_handled\u001b[0m\u001b[1;33m:\u001b[0m\u001b[1;33m\u001b[0m\u001b[1;33m\u001b[0m\u001b[0m\n\u001b[0;32m   1256\u001b[0m                     self.dialect.do_executemany(\n\u001b[1;32m-> 1257\u001b[1;33m                         \u001b[0mcursor\u001b[0m\u001b[1;33m,\u001b[0m \u001b[0mstatement\u001b[0m\u001b[1;33m,\u001b[0m \u001b[0mparameters\u001b[0m\u001b[1;33m,\u001b[0m \u001b[0mcontext\u001b[0m\u001b[1;33m\u001b[0m\u001b[1;33m\u001b[0m\u001b[0m\n\u001b[0m\u001b[0;32m   1258\u001b[0m                     )\n\u001b[0;32m   1259\u001b[0m             \u001b[1;32melif\u001b[0m \u001b[1;32mnot\u001b[0m \u001b[0mparameters\u001b[0m \u001b[1;32mand\u001b[0m \u001b[0mcontext\u001b[0m\u001b[1;33m.\u001b[0m\u001b[0mno_parameters\u001b[0m\u001b[1;33m:\u001b[0m\u001b[1;33m\u001b[0m\u001b[1;33m\u001b[0m\u001b[0m\n",
      "\u001b[1;32mD:\\ProgramData\\Anaconda3\\envs\\PythonData\\lib\\site-packages\\sqlalchemy\\dialects\\postgresql\\psycopg2.py\u001b[0m in \u001b[0;36mdo_executemany\u001b[1;34m(self, cursor, statement, parameters, context)\u001b[0m\n\u001b[0;32m    896\u001b[0m     \u001b[1;32mdef\u001b[0m \u001b[0mdo_executemany\u001b[0m\u001b[1;33m(\u001b[0m\u001b[0mself\u001b[0m\u001b[1;33m,\u001b[0m \u001b[0mcursor\u001b[0m\u001b[1;33m,\u001b[0m \u001b[0mstatement\u001b[0m\u001b[1;33m,\u001b[0m \u001b[0mparameters\u001b[0m\u001b[1;33m,\u001b[0m \u001b[0mcontext\u001b[0m\u001b[1;33m=\u001b[0m\u001b[1;32mNone\u001b[0m\u001b[1;33m)\u001b[0m\u001b[1;33m:\u001b[0m\u001b[1;33m\u001b[0m\u001b[1;33m\u001b[0m\u001b[0m\n\u001b[0;32m    897\u001b[0m         \u001b[1;32mif\u001b[0m \u001b[0mself\u001b[0m\u001b[1;33m.\u001b[0m\u001b[0mexecutemany_mode\u001b[0m \u001b[1;32mis\u001b[0m \u001b[0mEXECUTEMANY_DEFAULT\u001b[0m\u001b[1;33m:\u001b[0m\u001b[1;33m\u001b[0m\u001b[1;33m\u001b[0m\u001b[0m\n\u001b[1;32m--> 898\u001b[1;33m             \u001b[0mcursor\u001b[0m\u001b[1;33m.\u001b[0m\u001b[0mexecutemany\u001b[0m\u001b[1;33m(\u001b[0m\u001b[0mstatement\u001b[0m\u001b[1;33m,\u001b[0m \u001b[0mparameters\u001b[0m\u001b[1;33m)\u001b[0m\u001b[1;33m\u001b[0m\u001b[1;33m\u001b[0m\u001b[0m\n\u001b[0m\u001b[0;32m    899\u001b[0m             \u001b[1;32mreturn\u001b[0m\u001b[1;33m\u001b[0m\u001b[1;33m\u001b[0m\u001b[0m\n\u001b[0;32m    900\u001b[0m \u001b[1;33m\u001b[0m\u001b[0m\n",
      "\u001b[1;31mIntegrityError\u001b[0m: (psycopg2.errors.ForeignKeyViolation) insert or update on table \"wine_reviews\" violates foreign key constraint \"fk_wine_reviews_country\"\nDETAIL:  Key (country)=(Portugal) is not present in table \"alcohol_consumption\".\n\n[SQL: INSERT INTO wine_reviews (country, variety, points, price, title) VALUES (%(country)s, %(variety)s, %(points)s, %(price)s, %(title)s)]\n[parameters: ({'country': 'Portugal', 'variety': 'Portuguese Red', 'points': 87, 'price': 15.0, 'title': 'Quinta dos Avidagos 2011 Avidagos Red (Douro)'}, {'country': 'USA', 'variety': 'Pinot Gris', 'points': 87, 'price': 14.0, 'title': 'Rainstorm 2013 Pinot Gris (Willamette Valley)'}, {'country': 'USA', 'variety': 'Riesling', 'points': 87, 'price': 13.0, 'title': 'St. Julian 2013 Reserve Late Harvest Riesling (Lake Michigan Shore)'}, {'country': 'USA', 'variety': 'Pinot Noir', 'points': 87, 'price': 65.0, 'title': \"Sweet Cheeks 2012 Vintner's Reserve Wild Child Block Pinot Noir (Willamette Valley)\"}, {'country': 'Spain', 'variety': 'Tempranillo-Merlot', 'points': 87, 'price': 15.0, 'title': 'Tandem 2011 Ars In Vitro Tempranillo-Merlot (Navarra)'}, {'country': 'Italy', 'variety': 'Frappato', 'points': 87, 'price': 16.0, 'title': 'Terre di Giurfo 2013 Belsito Frappato (Vittoria)'}, {'country': 'France', 'variety': 'Gewürztraminer', 'points': 87, 'price': 24.0, 'title': 'Trimbach 2012 Gewurztraminer (Alsace)'}, {'country': 'Germany', 'variety': 'Gewürztraminer', 'points': 87, 'price': 12.0, 'title': 'Heinz Eifel 2013 Shine Gewürztraminer (Rheinhessen)'}  ... displaying 10 of 111439 total bound parameter sets ...  {'country': 'France', 'variety': 'Pinot Gris', 'points': 90, 'price': 32.0, 'title': 'Domaine Marcel Deiss 2012 Pinot Gris (Alsace)'}, {'country': 'France', 'variety': 'Gewürztraminer', 'points': 90, 'price': 21.0, 'title': 'Domaine Schoffit 2012 Lieu-dit Harth Cuvée Caroline Gewurztraminer (Alsace)'})]\n(Background on this error at: http://sqlalche.me/e/13/gkpj)"
     ]
    }
   ],
   "source": [
    "clean_wine.to_sql(name='wine_reviews', con=engine, if_exists='append', index=False)"
   ]
  },
  {
   "cell_type": "code",
   "execution_count": null,
   "metadata": {},
   "outputs": [],
   "source": []
  }
 ]
}